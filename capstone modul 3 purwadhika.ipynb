{
 "cells": [
  {
   "cell_type": "markdown",
   "id": "cbc85a50",
   "metadata": {},
   "source": [
    "# Saudi Arabia Used Car Prediction using Gradient Boosting\n",
    "\n",
    "![gambar mobil](bugatti-chiron-2021-saudi-arabia-middle-east-0.jpg)"
   ]
  },
  {
   "cell_type": "markdown",
   "id": "a12840d2",
   "metadata": {},
   "source": [
    "# BY Muhammad Fachri Fadhilah"
   ]
  },
  {
   "cell_type": "markdown",
   "id": "d939b71d",
   "metadata": {},
   "source": [
    "Sesuai Pedoman dari Capstone Project Modul 3  yang diinstruksikan dari  Purwadhika Digital Technology School, project capstone ini bertujuan agar siswa dapat membuat analisis data dan membangun Model Machine Learning sesuai dengan data dan requirement yang tersedia. Tentunya setiap siswa harus mengerjakan proyek ini secara end-to-end, meliputi rumusan masalah, target/sasaran, batasan model, hingga rangkuman dan rekomendasi sehubungan dengan proyek yang dikerjakan.\n",
    "\n",
    "Source and Reference:\n",
    "- [Purwadhika](https://drive.google.com/file/d/1Tr4YT5dmgwTrXLvIqZ4diBf5z8K6JjrR/view)\n",
    "- [Used Car Prediction using Machine Learning by Comets SDA](https://medium.com/@comets.sda/car-price-prediction-using-machine-learning-5bc0fc7c3fc4#id_token=eyJhbGciOiJSUzI1NiIsImtpZCI6Ijg2MTY0OWU0NTAzMTUzODNmNmI5ZDUxMGI3Y2Q0ZTkyMjZjM2NkODgiLCJ0eXAiOiJKV1QifQ.eyJpc3MiOiJodHRwczovL2FjY291bnRzLmdvb2dsZS5jb20iLCJuYmYiOjE2NTA5NzAzMjUsImF1ZCI6IjIxNjI5NjAzNTgzNC1rMWs2cWUwNjBzMnRwMmEyamFtNGxqZGNtczAwc3R0Zy5hcHBzLmdvb2dsZXVzZXJjb250ZW50LmNvbSIsInN1YiI6IjEwOTA0MjM5OTU0NzEwMjg0OTYxMyIsImVtYWlsIjoicmlzZGFuLmtyaXN0b3JpQGdtYWlsLmNvbSIsImVtYWlsX3ZlcmlmaWVkIjp0cnVlLCJhenAiOiIyMTYyOTYwMzU4MzQtazFrNnFlMDYwczJ0cDJhMmphbTRsamRjbXMwMHN0dGcuYXBwcy5nb29nbGV1c2VyY29udGVudC5jb20iLCJuYW1lIjoiUmlzZGFuIEtyaXN0b3JpIiwicGljdHVyZSI6Imh0dHBzOi8vbGgzLmdvb2dsZXVzZXJjb250ZW50LmNvbS9hLS9BT2gxNEdncmJZc3ZaMEx0cTZEXzZmM0xmYU15RGs4QmtiRGVYa2IwRDdJX09BPXM5Ni1jIiwiZ2l2ZW5fbmFtZSI6IlJpc2RhbiIsImZhbWlseV9uYW1lIjoiS3Jpc3RvcmkiLCJpYXQiOjE2NTA5NzA2MjUsImV4cCI6MTY1MDk3NDIyNSwianRpIjoiM2ZlNmRhNDNhYzAxNjlmOGE0ODgyYmQ1NmM3M2M0MTAxZDNlNTYzYyJ9.gc5utFX_fS5IQ1SgsksPg6SDUTrXxZuSeRf-F5jQKAK7Lo58x7oXux1veGUZCPpOYC5kFZhtlArRJwtJA7-RXWGKfv1YR6bJPWZvCr8SRrS_n2VjTDoYHKB4UyejDU14_3vpeNff9kWNlVeIhrGFnDemONgr52ieEXvY2j6OAG_zkyJOkWKdc-M_WmLoDCTSE-dIF7keNf0aLYZCpWTX7D7BP81w5b7uuMRbNdUpZme-h99z1RePc8Ber1yaAs-mpMpBsFBhdHNspVPqZF8qFfdhFLhq6cfQWOwdX_b-LWQzGseIjrgNRk61D2HpyuAmFBBOG8euzyHsgz9SuOuGnQ)\n",
    "- [Saudi Arabia Market Outlook 2025](https://www.kenresearch.com/automotive-transportation-and-warehousing/automotive-and-automotive-components/saudi-arabia-used-car-market-outlook-to-2025/356552-100.html#details)\n",
    "- [Car’s Selling Price Prediction using Random Forest Machine Learning Algorithm](https://papers.ssrn.com/sol3/papers.cfm?abstract_id=3702236)\n",
    "- [Machine Learning Used Car Price Prediction with Random Forest Regressor Model](http://journal.stmikjayakarta.ac.id/index.php/jisicom/article/view/752)\n",
    "- [kenresearch.com](https://www.kenresearch.com/blog/2020/09/future-of-saudi-arabia-used-car-market-growth-rate-ken-research/)\n",
    "- [Suzuki](https://www.suzuki.co.id/tips-trik/ketahui-ini-perbedaan-jenis-transmisi-otomatis-dan-manual?pages=all)\n",
    "- [Gradient boosting machines, a tutorial](https://www.frontiersin.org/articles/10.3389/fnbot.2013.00021/full)"
   ]
  },
  {
   "cell_type": "markdown",
   "id": "cb51bdff",
   "metadata": {},
   "source": [
    "# Contents\n",
    "- Business Problem\n",
    "- Data Understanding & Data Cleaning\n",
    "- Feature Selection & Feature Engineering\n",
    "- Modeling\n",
    "- Conclusion\n",
    "- Recommendation"
   ]
  },
  {
   "cell_type": "markdown",
   "id": "9d81a256",
   "metadata": {},
   "source": [
    "-----"
   ]
  },
  {
   "cell_type": "markdown",
   "id": "2d11bbc8",
   "metadata": {},
   "source": [
    "# Part 1: Business Problem\n",
    "\n",
    "### 1. why predict used car sales with machine learning\n",
    "\n",
    "Seiring dengan tingginya aktivitas dalam kehidupan manusia, keberadaan mobil sudah menjadi kebutuhan pokok. Disisi lain, harga mobil baru menjadi semakin tinggi dengan berbagai feature yang disematkan pada produk baru. Untuk memenuhi kesenjangan tersebut, masyarakat mencari alternatif untuk membeli mobil bekas yang kondisi masih baik dan layak digunakan (Pandey, Rastogi, & Singh, 2020). Penentuan harga mobil bekas banyak dipengaruhi oleh beberapa atribut dalam mobil tersebut, misalnya: jenis bahan bakar, model transmisi, km tempuh dan lain sebagainya. Hal ini tentu berbeda dengan harga mobil baru yang sudah fix ditentukan oleh produsen mobil. Hal inilah yang menyebabkan proses prediksi harga akan menjadi lama. Disinilah machine learning hadir untuk mempermudah proses prediksi harga mobil bekas. Salah satu peran dalam Macine Learning adalah kemampuan untuk belajar dari data transaksi sebelumnya dan ini akan menjadi model yang akan dapat digunakan untuk memberikan prediksi harga mobil bekas (Kriswantara & Bambang, 2022).\n",
    "![orang lagi mikir](https://img.freepik.com/free-vector/different-people-asking-questions_23-2148934441.jpg?w=2000)\n",
    "\n",
    "Source : \n",
    "- Pandey, Abhishek, Rastogi, Vanshika, & Singh, Sanika. (2020). Car’s Selling Price Prediction using Random Forest Machine Learning Algorithm. 5th International Conference on Next Generation Computing Technologies (NGCT-2019). Google Scholar\n",
    "- Kriswantara, B., & Sadikin, R. (2022). Machine Learning Used Car Price Prediction with Random Forest Regressor Model. JISICOM (Journal of Information System, Informatics and Computing), 6(1), 40-49.\n",
    "\n",
    "### 2. Saudi Arabia Market Opportunity\n",
    "\n",
    "Kerajaan Saudi Arabia merupakan salah satu negara yang memiliki proyeksi pertumbuhan bisnis jual beli mobil bekas. Dilansir dari [Saudi Arabia Market Outlook 2025](https://www.kenresearch.com/automotive-transportation-and-warehousing/automotive-and-automotive-components/saudi-arabia-used-car-market-outlook-to-2025/356552-100.html#details) dengan meningkatnya pendapatan yang dapat dibelanjakan dari masyarakat Saudi Arabia, dan bertambahnya jumlah supir perempuan (yang sebelumnya wanita dilarang untuk mengendarai mobil di Saudi Arabia) serta tumbuhnya pasar online jual beli mobil bekas menjadi faktor-faktor yang meningkatkan penjualan mobil bekas di negara tersebut. Di proyeksikan dari tahun 2019-2025, nilai (Gross Transaction Value) penjualan mobil bekas akan naik hingga 4.5% sedangkan volume penjualan akan meningkat hingga 2%. Penjualan mobil bekas terhadap mobil baru di Negara Saudi Arabia terus meningkat dengan rasio sekitar 2 mobil bekas berbanding dengan 1 mobil baru pada tahun 2019.\n",
    "\n",
    "Salah satu contoh webite yang menyediakan platform jual beli mobil bekas di Saudi Arabia adalah Syarah.com. Website ini mempertemukan penjual mobil bekas dengan calon pembelinya, terdapat berbagai macam jenis mobil bekas yang tersedia di platform ini. Penjual yang akan menawarkan mobil bekas di website menentukan sendiri harga mobilnya yang sesuai dengan kualitas mobil tersebut.\n",
    "![saudi arabia](https://www.researchnewstoday.com/wp-content/uploads/2020/08/Saudi-Arabia-Used-Car-Market-_-Infographic-1024x819.jpg)\n",
    "\n",
    "### 3. Used Car Price Problem\n",
    "\n",
    "Salah satu permasalahan yang sering terjadi dalam bisnis jual beli mobil bekas adalah ketidakpastian harga jual dari mobil tersebut. Hal ini menjadi masalah tidak hanya untuk pembeli tetapi juga untuk penjual mobil. Harga yang diberikan untuk mobil bekas bergantung dari berbagai macam faktor yang terkait dengan mobil tersebut, seperti model, tahun produksi mobil, ukuran mesin dan lain-lain. Tidak semua penjual mobil mengetahui fluktuasi harga mobil bekas sesuai dengan spesifikasi yang dimiliki oleh mobil tersebut. Bagi penjual jika dia memasang harga yang terlalu tinggi, maka akan menyebabkan mobil tersebut tidak akan laku terjual, sebaliknya jika penjual memasang harga terlalu rendah kerugianlah yang akhirnya didapatkan. Sebaliknya bagi pembeli yang tidak memiliki pengetahuan yang memadai mengenai harga mobil akan sangat kesulitan untuk memutuskan membeli mobil bekas.\n",
    "\n",
    "### Problem Statement\n",
    "\n",
    "Penjual dan pembeli mobil bekas yang tidak memiliki pengetahuan yang cukup mengenai mobil akan kesulitan dalam menentukan harga mobil yang akan dijual. Hal ini dapat menyebabkan tidak lakunya mobil yang dijual (kerugian bagi penjual), bagi pembeli kerugian yang didapat adalah sulitnya memutuskan untuk membeli sebuah mobil bekas (kerugian waktu/*time spending for research the used car*). \n",
    "\n",
    "### Goals\n",
    "\n",
    "Berdasarkan permasalahan tersebut, akan dibuatkan sebuah model yang dapat memprediksi harga mobil bekas berdasarkan spesifikasi yang dimiliki oleh mobil tersebut. Harga yang dihasilkan oleh model ini akan menjadi referensi bagi penjual dan pembeli mobil jika akan melakukan transaksi jual beli mobil bekas. Tujuannya adalah supaya penjual/ pembeli mobil bekas mengambil keputusan lebih cepat dalam melakukan transaksi (menjual/ membeli).\n",
    "\n",
    "### Utilization of project\n",
    "\n",
    "Project ini dapat digunakan oleh webite yang menyediakan platform jual beli mobil bekas seperti syarah.com untuk memberikan acuan harga mobil berdasarkan spesifikasi mobil yang tersedia demi mempermudah penjual dan pembeli dalam menentukan keputusannya. Hal ini akan berdampak pada naiknya jumlah transaksi pada platform karena menjadikannya sebagai platform penjualan mobil bekas yang *user friendly* dan dapat menaikkan pertumbuhan bisnis mobil bekas.\n",
    "\n",
    "### Analytic Approach\n",
    "\n",
    "Dalam membuat model yang dapat memprediksi harga sebuah mobil bekas, pertama-tama dianalisis terlebih dahulu spesifikasi apa saja yang dapat berpengaruh terhadap harga tersebut. Kemudian dibuat berbagai macam model regresi yang bertujuan untuk menentukan harga, dan melalui model-model tersebut ditentukan model terbaik yang memberikan matrix terbaik yang akan digunakan sebagai final model.\n",
    "\n",
    "### Matrix Evalution\n",
    "Matrix yang akan digunakan untuk model ini adalah:\n",
    "- Root Mean Squared Error (RMSE) : RMSE dihitung dengan mengkuadratkan error (prediksi – observasi) dibagi dengan jumlah data (= rata-rata), lalu diakarkan. RMSE tidak memiliki satuan. RMSE digunakan pada project ini karena RMSE memberikan bobot yang besar untuk error yang besar yang berarti RMSE sangat berguna ketika error yang besar tidak diinginkan.\n",
    "![gambar RMSE](https://1.bp.blogspot.com/-AodtifmdR1U/X-NOXo0avGI/AAAAAAAACmI/_jvy7eLB72UB00dW_buPYZCa9ST2yx8XACNcBGAsYHQ/s453/rumus%2Brmse.jpg)\n",
    "- Mean Absolute Error (MAE) :  Nilai MAE merepresentasikan rata – rata kesalahan (error) absolut antara hasil peramalan dengan nilai sebenarnya. MAE digunakan pada project ini karena MAE menghitung error pada saat forecast data tanpa mempertimbangkan arahnya.\n",
    "![gambar MAE](https://www.codingprof.com/wp-content/uploads/2021/12/Formula_MeanAbsoluteError.png)\n",
    "- R Squared : R squared digunakan pada project ini karena memperlihatkan seberapa besar variabel independen mempengaruhi variabel dependen. R squared memiliki angka yang berkisar antara 0 sampai 1.\n",
    "![gambar rsuared](https://i0.wp.com/maglearning.id/wp-content/uploads/2019/02/rumus-r-square.jpg?resize=511%2C114&ssl=1)"
   ]
  },
  {
   "cell_type": "markdown",
   "id": "e932d2c8",
   "metadata": {},
   "source": [
    "# Part 2 : Data Understanding & Data Cleaning\n",
    "\n",
    "Pada proses data understanding ini terbagi menjadi 3 tahapan yakni :\n",
    "1. Mengimport Library\n",
    "2. Membaca data\n",
    "3. Data Preparation\n",
    "\n",
    "### Mengimport Library\n",
    "\n",
    "Library yg di import adalah common library yakni pandas, numpy, matplotlib dan seaborn. Untuk library scikit learn akan di import saat akan melakukan proses permodelan machine learning"
   ]
  },
  {
   "cell_type": "code",
   "execution_count": 69,
   "id": "ed837b97",
   "metadata": {},
   "outputs": [],
   "source": [
    "import pandas as pd\n",
    "import numpy as np\n",
    "import matplotlib.pyplot as plt\n",
    "import seaborn as sns\n",
    "pd.set_option('display.max_rows', None)"
   ]
  },
  {
   "cell_type": "markdown",
   "id": "b8cb23d7",
   "metadata": {},
   "source": [
    "### Membaca data\n",
    "Deskripsi masing-masing kolom :\n",
    "- Make : Nama Perusahaan pembuat mobil\n",
    "- Type : Merek mobil\n",
    "- Year : Tahun Pembuatan\n",
    "- Origin: Negara Pengimpor Mobil (Gulf / Saudi / Other)\n",
    "- Options: Full Options / Semi-Full / Standard\n",
    "- Engine_Size: Ukuran Mesin Yang Digunakan Mobil\n",
    "- Gear_Type: Automatic / Manual\n",
    "- Mileage: Jarak Tempuh Kendaraan (dalam km)\n",
    "- Region: Daerah Penjualan Mobil Bekas\n",
    "- Price: Price of the used car (dalam Riyal)\n",
    "- Negotiable: Jika iya, harganya 0. Hal ini menunjukkan harga negosiable (tidak di setting) \n",
    "\n",
    "Price menjadi kolom target karena merupakan kolom yang ingin diprediksi"
   ]
  },
  {
   "cell_type": "code",
   "execution_count": 70,
   "id": "abd8bb56",
   "metadata": {},
   "outputs": [],
   "source": [
    "df = pd.read_csv(r'D:\\purwadhika\\project 3\\[For Students]\\Datasets for Students\\Regression\\data_saudi_used_cars.csv')"
   ]
  },
  {
   "cell_type": "code",
   "execution_count": 71,
   "id": "73d641dd",
   "metadata": {},
   "outputs": [
    {
     "data": {
      "text/html": [
       "<div>\n",
       "<style scoped>\n",
       "    .dataframe tbody tr th:only-of-type {\n",
       "        vertical-align: middle;\n",
       "    }\n",
       "\n",
       "    .dataframe tbody tr th {\n",
       "        vertical-align: top;\n",
       "    }\n",
       "\n",
       "    .dataframe thead th {\n",
       "        text-align: right;\n",
       "    }\n",
       "</style>\n",
       "<table border=\"1\" class=\"dataframe\">\n",
       "  <thead>\n",
       "    <tr style=\"text-align: right;\">\n",
       "      <th></th>\n",
       "      <th>Type</th>\n",
       "      <th>Region</th>\n",
       "      <th>Make</th>\n",
       "      <th>Gear_Type</th>\n",
       "      <th>Origin</th>\n",
       "      <th>Options</th>\n",
       "      <th>Year</th>\n",
       "      <th>Engine_Size</th>\n",
       "      <th>Mileage</th>\n",
       "      <th>Negotiable</th>\n",
       "      <th>Price</th>\n",
       "    </tr>\n",
       "  </thead>\n",
       "  <tbody>\n",
       "    <tr>\n",
       "      <th>0</th>\n",
       "      <td>Corolla</td>\n",
       "      <td>Abha</td>\n",
       "      <td>Toyota</td>\n",
       "      <td>Manual</td>\n",
       "      <td>Saudi</td>\n",
       "      <td>Standard</td>\n",
       "      <td>2013</td>\n",
       "      <td>1.4</td>\n",
       "      <td>421000</td>\n",
       "      <td>True</td>\n",
       "      <td>0</td>\n",
       "    </tr>\n",
       "    <tr>\n",
       "      <th>1</th>\n",
       "      <td>Yukon</td>\n",
       "      <td>Riyadh</td>\n",
       "      <td>GMC</td>\n",
       "      <td>Automatic</td>\n",
       "      <td>Saudi</td>\n",
       "      <td>Full</td>\n",
       "      <td>2014</td>\n",
       "      <td>8.0</td>\n",
       "      <td>80000</td>\n",
       "      <td>False</td>\n",
       "      <td>120000</td>\n",
       "    </tr>\n",
       "    <tr>\n",
       "      <th>2</th>\n",
       "      <td>Range Rover</td>\n",
       "      <td>Riyadh</td>\n",
       "      <td>Land Rover</td>\n",
       "      <td>Automatic</td>\n",
       "      <td>Gulf Arabic</td>\n",
       "      <td>Full</td>\n",
       "      <td>2015</td>\n",
       "      <td>5.0</td>\n",
       "      <td>140000</td>\n",
       "      <td>False</td>\n",
       "      <td>260000</td>\n",
       "    </tr>\n",
       "    <tr>\n",
       "      <th>3</th>\n",
       "      <td>Optima</td>\n",
       "      <td>Hafar Al-Batin</td>\n",
       "      <td>Kia</td>\n",
       "      <td>Automatic</td>\n",
       "      <td>Saudi</td>\n",
       "      <td>Semi Full</td>\n",
       "      <td>2015</td>\n",
       "      <td>2.4</td>\n",
       "      <td>220000</td>\n",
       "      <td>False</td>\n",
       "      <td>42000</td>\n",
       "    </tr>\n",
       "    <tr>\n",
       "      <th>4</th>\n",
       "      <td>FJ</td>\n",
       "      <td>Riyadh</td>\n",
       "      <td>Toyota</td>\n",
       "      <td>Automatic</td>\n",
       "      <td>Saudi</td>\n",
       "      <td>Full</td>\n",
       "      <td>2020</td>\n",
       "      <td>4.0</td>\n",
       "      <td>49000</td>\n",
       "      <td>True</td>\n",
       "      <td>0</td>\n",
       "    </tr>\n",
       "  </tbody>\n",
       "</table>\n",
       "</div>"
      ],
      "text/plain": [
       "          Type          Region        Make  Gear_Type       Origin    Options  \\\n",
       "0      Corolla            Abha      Toyota     Manual        Saudi   Standard   \n",
       "1        Yukon          Riyadh         GMC  Automatic        Saudi       Full   \n",
       "2  Range Rover          Riyadh  Land Rover  Automatic  Gulf Arabic       Full   \n",
       "3       Optima  Hafar Al-Batin         Kia  Automatic        Saudi  Semi Full   \n",
       "4           FJ          Riyadh      Toyota  Automatic        Saudi       Full   \n",
       "\n",
       "   Year  Engine_Size  Mileage  Negotiable   Price  \n",
       "0  2013          1.4   421000        True       0  \n",
       "1  2014          8.0    80000       False  120000  \n",
       "2  2015          5.0   140000       False  260000  \n",
       "3  2015          2.4   220000       False   42000  \n",
       "4  2020          4.0    49000        True       0  "
      ]
     },
     "execution_count": 71,
     "metadata": {},
     "output_type": "execute_result"
    }
   ],
   "source": [
    "df.head()"
   ]
  },
  {
   "cell_type": "code",
   "execution_count": 72,
   "id": "4282eeee",
   "metadata": {},
   "outputs": [
    {
     "data": {
      "text/html": [
       "<div>\n",
       "<style scoped>\n",
       "    .dataframe tbody tr th:only-of-type {\n",
       "        vertical-align: middle;\n",
       "    }\n",
       "\n",
       "    .dataframe tbody tr th {\n",
       "        vertical-align: top;\n",
       "    }\n",
       "\n",
       "    .dataframe thead th {\n",
       "        text-align: right;\n",
       "    }\n",
       "</style>\n",
       "<table border=\"1\" class=\"dataframe\">\n",
       "  <thead>\n",
       "    <tr style=\"text-align: right;\">\n",
       "      <th></th>\n",
       "      <th>Features</th>\n",
       "      <th>DataType</th>\n",
       "      <th>Null</th>\n",
       "      <th>NullPercentage</th>\n",
       "      <th>Unique</th>\n",
       "    </tr>\n",
       "  </thead>\n",
       "  <tbody>\n",
       "    <tr>\n",
       "      <th>0</th>\n",
       "      <td>Type</td>\n",
       "      <td>object</td>\n",
       "      <td>0</td>\n",
       "      <td>0.0</td>\n",
       "      <td>347</td>\n",
       "    </tr>\n",
       "    <tr>\n",
       "      <th>1</th>\n",
       "      <td>Region</td>\n",
       "      <td>object</td>\n",
       "      <td>0</td>\n",
       "      <td>0.0</td>\n",
       "      <td>27</td>\n",
       "    </tr>\n",
       "    <tr>\n",
       "      <th>2</th>\n",
       "      <td>Make</td>\n",
       "      <td>object</td>\n",
       "      <td>0</td>\n",
       "      <td>0.0</td>\n",
       "      <td>58</td>\n",
       "    </tr>\n",
       "    <tr>\n",
       "      <th>3</th>\n",
       "      <td>Gear_Type</td>\n",
       "      <td>object</td>\n",
       "      <td>0</td>\n",
       "      <td>0.0</td>\n",
       "      <td>2</td>\n",
       "    </tr>\n",
       "    <tr>\n",
       "      <th>4</th>\n",
       "      <td>Origin</td>\n",
       "      <td>object</td>\n",
       "      <td>0</td>\n",
       "      <td>0.0</td>\n",
       "      <td>4</td>\n",
       "    </tr>\n",
       "    <tr>\n",
       "      <th>5</th>\n",
       "      <td>Options</td>\n",
       "      <td>object</td>\n",
       "      <td>0</td>\n",
       "      <td>0.0</td>\n",
       "      <td>3</td>\n",
       "    </tr>\n",
       "    <tr>\n",
       "      <th>6</th>\n",
       "      <td>Year</td>\n",
       "      <td>int64</td>\n",
       "      <td>0</td>\n",
       "      <td>0.0</td>\n",
       "      <td>50</td>\n",
       "    </tr>\n",
       "    <tr>\n",
       "      <th>7</th>\n",
       "      <td>Engine_Size</td>\n",
       "      <td>float64</td>\n",
       "      <td>0</td>\n",
       "      <td>0.0</td>\n",
       "      <td>71</td>\n",
       "    </tr>\n",
       "    <tr>\n",
       "      <th>8</th>\n",
       "      <td>Mileage</td>\n",
       "      <td>int64</td>\n",
       "      <td>0</td>\n",
       "      <td>0.0</td>\n",
       "      <td>1716</td>\n",
       "    </tr>\n",
       "    <tr>\n",
       "      <th>9</th>\n",
       "      <td>Negotiable</td>\n",
       "      <td>bool</td>\n",
       "      <td>0</td>\n",
       "      <td>0.0</td>\n",
       "      <td>2</td>\n",
       "    </tr>\n",
       "    <tr>\n",
       "      <th>10</th>\n",
       "      <td>Price</td>\n",
       "      <td>int64</td>\n",
       "      <td>0</td>\n",
       "      <td>0.0</td>\n",
       "      <td>467</td>\n",
       "    </tr>\n",
       "  </tbody>\n",
       "</table>\n",
       "</div>"
      ],
      "text/plain": [
       "       Features DataType  Null  NullPercentage  Unique\n",
       "0          Type   object     0             0.0     347\n",
       "1        Region   object     0             0.0      27\n",
       "2          Make   object     0             0.0      58\n",
       "3     Gear_Type   object     0             0.0       2\n",
       "4        Origin   object     0             0.0       4\n",
       "5       Options   object     0             0.0       3\n",
       "6          Year    int64     0             0.0      50\n",
       "7   Engine_Size  float64     0             0.0      71\n",
       "8       Mileage    int64     0             0.0    1716\n",
       "9    Negotiable     bool     0             0.0       2\n",
       "10        Price    int64     0             0.0     467"
      ]
     },
     "execution_count": 72,
     "metadata": {},
     "output_type": "execute_result"
    }
   ],
   "source": [
    "Dataset = []\n",
    "for i in df.columns :\n",
    "    Dataset.append([\n",
    "        i,\n",
    "        df[i].dtypes,\n",
    "        df[i].isna().sum(),\n",
    "        round((df[i].isna().sum()/len(df))*100,2),\n",
    "        df[i].nunique()\n",
    "    ])\n",
    "pd.DataFrame(data = Dataset,\n",
    "            columns=[\n",
    "                'Features',\n",
    "                'DataType',\n",
    "                'Null',\n",
    "                'NullPercentage',\n",
    "                'Unique'\n",
    "            ])"
   ]
  },
  {
   "cell_type": "markdown",
   "id": "27023d3f",
   "metadata": {},
   "source": [
    "Berdasarkan informasi diatas diketahui bahwa dalam dataset terdapat 11 kolom dan 5624 baris. Dengan komposisi sebagai berikut:\n",
    "\n",
    "- 6 tipe data object\n",
    "- 3 data integer\n",
    "- 1 data float, dan\n",
    "- 1 data boolean."
   ]
  },
  {
   "cell_type": "markdown",
   "id": "a40d10c5",
   "metadata": {},
   "source": [
    "### Data Preparation\n",
    "\n",
    "Seperti yang sudah kita ketahui bahwa kualitas data sangat memengaruhi hasil analisis. Sebaik dan mutakhir apa pun analisis yang akan dilakukan, jika kualitas datanya buruk maka hasilnya pun tidak akan memuaskan. Nah, kualitas data bisa dipastikan melalui suatu prosedur yang disebut dengan **data preparation**. Data preparation merupakan kegiatan penyeragaman data atau pembersihan data (cleaning data) dari data kotor (mentah) menjadi data yang nantinya siap digunakan untuk analisis.\n",
    "\n",
    "Dalam proses data preparation ini dilakukan 4 tahapan yakni :\n",
    "\n",
    "1. melakukan pengecekan missing value\n",
    "\n",
    "Missing value adalah peristiwa hilang atau tidak terbacanya data. Peristiwa ini sering ditemui oleh data scientist saat menangani data. Biasanya, data-data yang tidak dapat terdeteksi akan disimbolkan dengan “NaN” atau hanya dalam bentuk tanda baca, yaitu tanda tanya “?”. Tidak jarang juga, data yang tidak terdeteksi akan ditampilkan sebagai blank cell yang tidak ada nilainya sama sekali. Missing value yang tidak diatasi dapat menimbulkan perubahan hasil analisis.\n",
    "\n",
    "2. melakukan pengecekan dan penghapusan data terduplikasi\n",
    "\n",
    "Data duplikasi (duplicate data) merupakan kondisi dimana satu atribut data memiliki dua atau lebih nilai yang sama. Data terduplikasi dapat mengganggu splitting antara training model, validasi, dan testing model jika data terduplikasi tidak berada dalam set yang sama. Meminimalisir data terduplikasi juga dapat mencegah terjadinya data yang miss interpretasi atau salah tafsir.\n",
    "\n",
    "3. melihat isi kolom dari setiap data\n",
    "\n",
    "Dilakukan untuk mengetahui variasi nilai data (unique value) dari setiap kolom nya, jumlah dari unique value dari data tersebut serta persentase unique value dari data tersebut.\n",
    "\n",
    "4. melakukan treatment pada data outliers yang ekstrem\n",
    "\n",
    "Nilai ekstrim adalah nilai yang jauh atau beda sama sekali dengan sebagian besar nilai lain dalam kelompoknya, misalnya nilainya terlalu kecil atau terlalu besar."
   ]
  },
  {
   "cell_type": "markdown",
   "id": "0186d28d",
   "metadata": {},
   "source": [
    "Melakukan pengecekan missing value"
   ]
  },
  {
   "cell_type": "code",
   "execution_count": 73,
   "id": "c38f5bb8",
   "metadata": {},
   "outputs": [
    {
     "data": {
      "text/plain": [
       "Type           0\n",
       "Region         0\n",
       "Make           0\n",
       "Gear_Type      0\n",
       "Origin         0\n",
       "Options        0\n",
       "Year           0\n",
       "Engine_Size    0\n",
       "Mileage        0\n",
       "Negotiable     0\n",
       "Price          0\n",
       "dtype: int64"
      ]
     },
     "execution_count": 73,
     "metadata": {},
     "output_type": "execute_result"
    }
   ],
   "source": [
    "df.isna().sum()"
   ]
  },
  {
   "cell_type": "markdown",
   "id": "95ffbfed",
   "metadata": {},
   "source": [
    "Melakukan pengecekan data terduplikasi"
   ]
  },
  {
   "cell_type": "code",
   "execution_count": 74,
   "id": "1758f4a6",
   "metadata": {},
   "outputs": [
    {
     "data": {
      "text/plain": [
       "True"
      ]
     },
     "execution_count": 74,
     "metadata": {},
     "output_type": "execute_result"
    }
   ],
   "source": [
    "df.duplicated().any()"
   ]
  },
  {
   "cell_type": "markdown",
   "id": "3fb0c0cb",
   "metadata": {},
   "source": [
    "Melakukan penghapusan data terduplikasi karena dapat mengganggu splitting antara training model, validasi, dan testing model jika data terduplikasi tidak berada dalam set yang sama serta mencegah terjadinya data yang miss interpretasi atau salah tafsir."
   ]
  },
  {
   "cell_type": "code",
   "execution_count": 75,
   "id": "7ebe0ff7",
   "metadata": {},
   "outputs": [],
   "source": [
    "df = df.drop_duplicates()"
   ]
  },
  {
   "cell_type": "markdown",
   "id": "394b99e4",
   "metadata": {},
   "source": [
    "Melakukan pengecekan isi kolom type"
   ]
  },
  {
   "cell_type": "code",
   "execution_count": 76,
   "id": "d601a326",
   "metadata": {},
   "outputs": [
    {
     "data": {
      "text/plain": [
       "array(['Corolla', 'Yukon', 'Range Rover', 'Optima', 'FJ', 'CX3',\n",
       "       'Cayenne S', 'Sonata', 'Avalon', 'LS', 'C300', 'Land Cruiser',\n",
       "       'Hilux', 'Tucson', 'Caprice', 'Sunny', 'Pajero', 'Azera', 'Focus',\n",
       "       '5', 'Spark', 'Camry', 'Pathfinder', 'Accent', 'ML', 'Tahoe',\n",
       "       'Yaris', 'Suburban', 'A', 'Altima', 'Traverse', 'Expedition',\n",
       "       'Senta fe', 'Liberty', '3', 'X', 'Elantra', 'Land Cruiser Pickup',\n",
       "       'VTC', 'Malibu', 'The 5', 'A8', 'Patrol', 'Grand Cherokee', 'SL',\n",
       "       'Previa', 'SEL', 'Aveo', 'MKZ', 'Victoria', 'Datsun', 'Flex',\n",
       "       'GLC', 'ES', 'Edge', '6', 'Escalade', 'Innova', 'Navara', 'H1',\n",
       "       'G80', 'Carnival', 'Symbol', 'Camaro', 'Accord', 'Avanza',\n",
       "       'Land Cruiser 70', 'Taurus', 'C5700', 'Impala', 'Optra', 'S',\n",
       "       'Other', 'Cerato', 'Furniture', 'Murano', 'Explorer', 'LX',\n",
       "       'Pick up', 'Charger', 'H6', 'BT-50', 'Hiace', 'Ranger', 'Fusion',\n",
       "       'Rav4', 'Ciocca', 'CX9', 'Kona', 'Sentra', 'Sierra', 'Durango',\n",
       "       'CT-S', 'Sylvian Bus', 'Navigator', 'Opirus', 'Marquis', 'The 7',\n",
       "       'FX', 'Creta', 'D-MAX', 'CS35', 'The 3', 'Dyna', 'GLE', 'Sedona',\n",
       "       'Prestige', 'CLA', 'Lumina', 'Vanquish', 'Sorento', 'Safrane',\n",
       "       'Cores', 'Cruze', 'Prado', 'Cadenza', \"D'max\", 'Silverado', 'Rio',\n",
       "       'Maxima', 'X-Trail', 'RX', 'Cressida', 'C', 'Seven', 'Cherokee',\n",
       "       'Grand Marquis', 'H2', 'QX', 'Blazer', 'Wingle', 'Panamera',\n",
       "       'Rush', 'The M', 'Genesis', 'E', 'K5', 'CS95', 'Cayenne Turbo S',\n",
       "       'Civic', 'Echo Sport', 'Challenger', 'CL', 'Wrangler', 'A6',\n",
       "       'Dokker', 'CX5', 'Mohave', 'Ghost', 'Copper', 'Veloster', 'G',\n",
       "       'Jetta', 'IS', 'Thunderbird', 'Fluence', 'V7', 'Vego', 'Aurion',\n",
       "       'Q', 'F3', 'UX', 'Beetle', 'F150', 'Acadia', 'EC7', 'Lancer',\n",
       "       'Capture', 'Van R', 'Mustang', 'CS35 Plus', 'DB9', 'APV',\n",
       "       'Kaptiva', 'Viano', 'Safari', 'Cadillac', 'CLS', 'Duster',\n",
       "       'Platinum', 'Carenz', 'Emgrand', 'Z', 'Coupe S', 'Odyssey',\n",
       "       'Terrain', 'Juke', 'Sportage', 'C200', 'Attrage', 'GS', 'X-Terra',\n",
       "       'Azkarra', 'XF', 'Picanto', 'Armada', 'CT5', 'KICKS', 'Gran Max',\n",
       "       'Cayman', 'Levante', 'Montero', '300', 'POS24', 'A3', 'Touareg',\n",
       "       'Passat', 'Delta', 'H3', 'RX5', 'GS3', 'Coupe', 'New Yorker',\n",
       "       'Cayenne Turbo', 'Colorado', 'Trailblazer', 'Vitara', 'Nativa',\n",
       "       'Van', 'LF X60', 'Koleos', 'Defender', 'Abeka', 'H100',\n",
       "       'Flying Spur', 'Pilot', 'L200', 'A7', 'Quattroporte', 'Bora',\n",
       "       'Compass', 'Bus Urvan', 'Macan', 'Corolla Cross', 'GL', 'City',\n",
       "       'DTS', 'Ertiga', 'Envoy', 'CT6', 'Fleetwood', 'Tiggo', 'GX', 'Q5',\n",
       "       'A4', 'XJ', 'Echo', 'HS', 'Avalanche', 'MKX', 'Seltos', 'SRX',\n",
       "       'RX8', 'SLK', '301', 'EC8', '3008', 'Suvana', 'Prius', 'Cayenne',\n",
       "       'Eado', 'The 6', 'Royal', 'NX', 'Soul', 'CS75', 'H9', 'F-Pace',\n",
       "       'Coolray', 'Maybach', 'CS85', 'Jimny', 'GC7', '360', 'A5', 'S300',\n",
       "       'Superb', 'Ram', 'The 4', 'Grand Vitara', '500', 'Logan', '5008',\n",
       "       'Tiguan', 'Golf', 'S5', '911', 'Boxer', 'Camargue', 'M', 'Daily',\n",
       "       'Nitro', 'CRV', 'Mini Van', 'Pegas', 'L300', 'Coaster',\n",
       "       'Discovery', 'Montero2', 'Bentayga', 'Z370', 'Bus County',\n",
       "       'Stinger', 'SRT', 'CT4', 'F Type', 'CC', 'Koranado', 'ASX',\n",
       "       'Carens', 'Crown', 'ِACTIS V80', 'XT5', 'Tuscani', '4Runner',\n",
       "       'ATS', 'HRV', 'X7', 'Outlander', 'X40', 'Q7', 'ZS', 'G70',\n",
       "       'Megane', 'Nexon', 'Power', 'B50', 'Town Car', '2', 'i40', 'RC',\n",
       "       'Doblo', 'Bronco', 'Dzire', 'Avante', 'Z350', 'CX7', 'Countryman',\n",
       "       'GTB 599 Fiorano', 'Prestige Plus', 'Terios', 'MKS', 'Milan',\n",
       "       'Centennial', 'Dakota', 'Savana', 'S8'], dtype=object)"
      ]
     },
     "execution_count": 76,
     "metadata": {},
     "output_type": "execute_result"
    }
   ],
   "source": [
    "df['Type'].unique()"
   ]
  },
  {
   "cell_type": "markdown",
   "id": "bb915cd4",
   "metadata": {},
   "source": [
    "Melakukan pengecekan isi kolom Region"
   ]
  },
  {
   "cell_type": "code",
   "execution_count": 77,
   "id": "0b40073c",
   "metadata": {},
   "outputs": [
    {
     "data": {
      "text/plain": [
       "array(['Abha', 'Riyadh', 'Hafar Al-Batin', 'Aseer', 'Makkah', 'Dammam',\n",
       "       'Yanbu', 'Al-Baha', 'Jeddah', 'Hail', 'Khobar', 'Al-Ahsa', 'Jazan',\n",
       "       'Al-Medina', 'Al-Namas', 'Tabouk', 'Taef', 'Qassim', 'Arar',\n",
       "       'Jubail', 'Sabya', 'Al-Jouf', 'Najran', 'Wadi Dawasir', 'Qurayyat',\n",
       "       'Sakaka', 'Besha'], dtype=object)"
      ]
     },
     "execution_count": 77,
     "metadata": {},
     "output_type": "execute_result"
    }
   ],
   "source": [
    "df['Region'].unique()"
   ]
  },
  {
   "cell_type": "markdown",
   "id": "d02bcfae",
   "metadata": {},
   "source": [
    "Melakukan pengecekan isi kolom merek mobil"
   ]
  },
  {
   "cell_type": "code",
   "execution_count": 78,
   "id": "f856f357",
   "metadata": {},
   "outputs": [
    {
     "data": {
      "text/plain": [
       "array(['Toyota', 'GMC', 'Land Rover', 'Kia', 'Mazda', 'Porsche',\n",
       "       'Hyundai', 'Lexus', 'Chrysler', 'Chevrolet', 'Nissan',\n",
       "       'Mitsubishi', 'Ford', 'MG', 'Mercedes', 'Jeep', 'BMW', 'Audi',\n",
       "       'Lincoln', 'Cadillac', 'Genesis', 'Renault', 'Honda', 'Suzuki',\n",
       "       'Zhengzhou', 'Dodge', 'HAVAL', 'INFINITI', 'Isuzu', 'Changan',\n",
       "       'Aston Martin', 'Mercury', 'Great Wall', 'Other', 'Rolls-Royce',\n",
       "       'MINI', 'Volkswagen', 'BYD', 'Geely', 'Victory Auto', 'Classic',\n",
       "       'Jaguar', 'Daihatsu', 'Maserati', 'Hummer', 'GAC', 'Lifan',\n",
       "       'Bentley', 'Chery', 'Peugeot', 'Foton', 'Škoda', 'Fiat', 'Iveco',\n",
       "       'SsangYong', 'FAW', 'Tata', 'Ferrari'], dtype=object)"
      ]
     },
     "execution_count": 78,
     "metadata": {},
     "output_type": "execute_result"
    }
   ],
   "source": [
    "df['Make'].unique()"
   ]
  },
  {
   "cell_type": "markdown",
   "id": "bf05db66",
   "metadata": {},
   "source": [
    "Melakukan pengecekan isi kolom tipe gear"
   ]
  },
  {
   "cell_type": "code",
   "execution_count": 79,
   "id": "8e688c15",
   "metadata": {},
   "outputs": [
    {
     "data": {
      "text/plain": [
       "array(['Manual', 'Automatic'], dtype=object)"
      ]
     },
     "execution_count": 79,
     "metadata": {},
     "output_type": "execute_result"
    }
   ],
   "source": [
    "df['Gear_Type'].unique()"
   ]
  },
  {
   "cell_type": "markdown",
   "id": "3beb1b6a",
   "metadata": {},
   "source": [
    "Melakukan pengecekan isi kolom origin"
   ]
  },
  {
   "cell_type": "code",
   "execution_count": 80,
   "id": "27b387b2",
   "metadata": {},
   "outputs": [
    {
     "data": {
      "text/plain": [
       "array(['Saudi', 'Gulf Arabic', 'Other', 'Unknown'], dtype=object)"
      ]
     },
     "execution_count": 80,
     "metadata": {},
     "output_type": "execute_result"
    }
   ],
   "source": [
    "df['Origin'].unique()"
   ]
  },
  {
   "cell_type": "markdown",
   "id": "0505e11d",
   "metadata": {},
   "source": [
    "Melakukan pengecekan isi kolom Options"
   ]
  },
  {
   "cell_type": "code",
   "execution_count": 81,
   "id": "775f1ce6",
   "metadata": {},
   "outputs": [
    {
     "data": {
      "text/plain": [
       "array(['Standard', 'Full', 'Semi Full'], dtype=object)"
      ]
     },
     "execution_count": 81,
     "metadata": {},
     "output_type": "execute_result"
    }
   ],
   "source": [
    "df['Options'].unique()"
   ]
  },
  {
   "cell_type": "markdown",
   "id": "b1a11eca",
   "metadata": {},
   "source": [
    "Melakukan pengecekan isi kolom Year"
   ]
  },
  {
   "cell_type": "code",
   "execution_count": 82,
   "id": "89e58ebd",
   "metadata": {},
   "outputs": [
    {
     "data": {
      "text/plain": [
       "array([2013, 2014, 2015, 2020, 2019, 2012, 2016, 1998, 2011, 2008, 1982,\n",
       "       1985, 2018, 1983, 2021, 2017, 2002, 2010, 2009, 2004, 2001, 1986,\n",
       "       2007, 1999, 2005, 1977, 1991, 2003, 1995, 2006, 1997, 1993, 1996,\n",
       "       2000, 1990, 1965, 1980, 1987, 1994, 1988, 1989, 1978, 2022, 1975,\n",
       "       1964, 1984, 1979, 1992, 1963, 1981], dtype=int64)"
      ]
     },
     "execution_count": 82,
     "metadata": {},
     "output_type": "execute_result"
    }
   ],
   "source": [
    "df['Year'].unique()"
   ]
  },
  {
   "cell_type": "markdown",
   "id": "1c5cb017",
   "metadata": {},
   "source": [
    "Melakukan pengecekan isi kolom Engine size"
   ]
  },
  {
   "cell_type": "code",
   "execution_count": 83,
   "id": "de9d0a8e",
   "metadata": {},
   "outputs": [
    {
     "data": {
      "text/plain": [
       "array([1.4, 8. , 5. , 2.4, 4. , 2. , 4.8, 3.5, 4.6, 5.7, 2.7, 1. , 3. ,\n",
       "       1.6, 1.5, 3.3, 6.2, 2.5, 5.3, 3.6, 5.4, 1.7, 3.7, 9. , 4.7, 4.5,\n",
       "       3.8, 5.5, 2.6, 1.8, 1.2, 6. , 6.9, 3.2, 5.9, 2.2, 5.6, 1.1, 2.9,\n",
       "       4.1, 1.3, 4.4, 2.8, 3.4, 8.8, 6.1, 7. , 1.9, 7.5, 4.3, 6.5, 3.1,\n",
       "       6.3, 6.4, 5.8, 8.5, 2.3, 6.6, 7.2, 4.2, 5.1, 7.4, 5.2, 2.1, 6.7,\n",
       "       7.8, 3.9, 8.7, 4.9, 6.8, 8.9])"
      ]
     },
     "execution_count": 83,
     "metadata": {},
     "output_type": "execute_result"
    }
   ],
   "source": [
    "df['Engine_Size'].unique()"
   ]
  },
  {
   "cell_type": "markdown",
   "id": "3a34718c",
   "metadata": {},
   "source": [
    "Melakukan pengecekan isi kolom Mileage"
   ]
  },
  {
   "cell_type": "code",
   "execution_count": 84,
   "id": "69813c37",
   "metadata": {},
   "outputs": [
    {
     "data": {
      "text/plain": [
       "array([421000,  80000, 140000, ...,    343,    447,  78794], dtype=int64)"
      ]
     },
     "execution_count": 84,
     "metadata": {},
     "output_type": "execute_result"
    }
   ],
   "source": [
    "df['Mileage'].unique()"
   ]
  },
  {
   "cell_type": "markdown",
   "id": "fbde5839",
   "metadata": {},
   "source": [
    "Melakukan pengecekan isi kolom Negosiasi"
   ]
  },
  {
   "cell_type": "code",
   "execution_count": 85,
   "id": "eb55f961",
   "metadata": {},
   "outputs": [
    {
     "data": {
      "text/plain": [
       "array([ True, False])"
      ]
     },
     "execution_count": 85,
     "metadata": {},
     "output_type": "execute_result"
    }
   ],
   "source": [
    "df['Negotiable'].unique()"
   ]
  },
  {
   "cell_type": "markdown",
   "id": "32c867aa",
   "metadata": {},
   "source": [
    "melakukan pengecekan isi kolom Price"
   ]
  },
  {
   "cell_type": "code",
   "execution_count": 86,
   "id": "1dc90d0b",
   "metadata": {},
   "outputs": [
    {
     "data": {
      "text/plain": [
       "array([     0, 120000, 260000,  42000,  58000,  85000,  48000,  81500,\n",
       "        55000, 145000,  38000, 140000, 200000,  65000,   7000,  76000,\n",
       "        32000,  23000,  20000,  10000,  45000,  30000, 149000, 179000,\n",
       "        22000,  49500,  52000,  25000,  72000,   1010, 105000,  99000,\n",
       "        57000, 110000,  15000, 265000,  56500,   5500,  90000,   1200,\n",
       "        71500,  29000,  62000, 141000, 230000, 225000,  60000,  93000,\n",
       "        68000,  50000,  69000, 121500,  51000, 109000,  47000,  88000,\n",
       "       142000,  53000,  39000,  78500,   5000,  35000,  45500,  33000,\n",
       "       125000,   9500,  63000,  80000,  44000,  54000,  37000,  79000,\n",
       "        70000,  81000,  68500,  33500,  14500,  11000, 118000,  36500,\n",
       "        75000,  61500,  44500,  13000, 107000, 102000,  99500, 122000,\n",
       "        14000,  21000,  77000, 100000,  59500, 119000,  38500, 165000,\n",
       "       330000,  72910, 410000, 400000,  35500,  66000,  76500,  27000,\n",
       "        95000, 115000,  26000,  69500,  28500, 185000, 210000,  40000,\n",
       "       245000,  27500,  89000,  49000, 138000,   2049, 126000, 250000,\n",
       "        36000, 194500, 139000,  56000, 135000,  43000, 180000, 108000,\n",
       "        53500,  32500,   1197,  47500, 335000,  86000,  58500,  24000,\n",
       "        67000, 175000,  17000,  29500,   1414, 162000,  39500,  57500,\n",
       "         1221, 170000, 144000,  84500,  28000, 188000, 255000,  41500,\n",
       "       130000,  83000,  26800, 150000,   1700,  82000,  19000, 190000,\n",
       "       285000,  59000,  12000,  73000,  18000,   8000, 220000, 113500,\n",
       "       310000,  48500,   1430, 160000,  98000, 240000, 381000,  62500,\n",
       "       117000,  13500, 159000,  40800, 116500, 155000, 114500,  34000,\n",
       "        84000, 248000, 290000, 106000, 176000, 113000,   3000, 291500,\n",
       "       340000, 106500,  78000,  16000,  60500,  64000,   1262,  31000,\n",
       "       428000, 167000,  46000, 164000, 199000,  40500, 195000,   2000,\n",
       "        55500,  24500, 298000,  97000,  91500,   1139,  10500,  89500,\n",
       "        74000, 104000,  37500,  27499,   9000, 111500,  16500, 235000,\n",
       "       395000, 124000, 431500,  73500, 143000,  74500,   2820,  61000,\n",
       "        18500, 178000, 385000, 173000, 136000, 257000,  86900, 111000,\n",
       "        94000,  83500,  46500, 177000,  11500,  23500, 127000, 147000,\n",
       "       161500,  21500, 360000,  72500,  41000,  26500,  82500, 153000,\n",
       "         1872, 151000,   1000, 236000,  87500,  91000, 129000, 158000,\n",
       "       498000,  92000,  93500,   2690,  80500,   1519, 112000, 132000,\n",
       "       320000,   1500,   6500,  29750, 375000, 215000, 186500, 146500,\n",
       "        71000,  19500, 270000, 406500,  54500,  34500,  90500,  25500,\n",
       "       349000, 425000,   2665,  14250, 365000, 137000,  96000, 104500,\n",
       "        42500,   1959,  64500, 275000, 258000, 148500,   1846,  87000,\n",
       "       123000,   3100, 620000,  70500, 128000,  56600,  51500,   2191,\n",
       "       114000, 238000, 325000,  54900, 169000, 288000, 166000, 224500,\n",
       "         1086,   1595, 295000, 207000, 153500, 131500, 252000, 510000,\n",
       "         2314,  12500, 168000, 181000, 171500, 280000, 182000,  66587,\n",
       "       350000, 128500, 465000, 116000, 105500, 345000,   2141, 262000,\n",
       "       183000, 520000, 188500,   4500, 109500, 152000, 267000,  66500,\n",
       "         1670, 233000, 146000, 205000, 500000,   1368,  79500, 450000,\n",
       "        43500, 241000, 540000,   2333, 355000, 172500,      1,  77500,\n",
       "         1576, 148000,  85500,  17500, 455000, 158500, 134000, 468000,\n",
       "       390000, 216000,   1300,  65500,  50500,    950,   1324,   1550,\n",
       "       850000, 296000,  95800, 575000, 124500, 163000,    993, 259000,\n",
       "       187000,   1723, 420000, 186000,    988,  63500,   1002, 241500,\n",
       "        22500,    500, 149500, 162500, 315000,  67500,   1128,   1625,\n",
       "         2560, 401500,  86500, 126500,  56008, 226000,   2069, 748000,\n",
       "       266000, 236500, 237000, 384900, 191500, 445000, 435000,    850,\n",
       "       103000, 251500, 459000,  34800,   2300, 213000, 418000,  57900,\n",
       "         1800, 599000,  92999, 800000, 342000,   1630,   1342, 174000,\n",
       "         2122, 156500,   7500, 261500, 203000,   1310,   4000,   1325,\n",
       "         1156, 197000,    884, 286500, 470000, 138500,  23900, 136500,\n",
       "       223000, 166500,   1046,   2402,   6000, 229000,   1313, 247000,\n",
       "         1440,   2450, 154000], dtype=int64)"
      ]
     },
     "execution_count": 86,
     "metadata": {},
     "output_type": "execute_result"
    }
   ],
   "source": [
    "df['Price'].unique()"
   ]
  },
  {
   "cell_type": "markdown",
   "id": "f68bd402",
   "metadata": {},
   "source": [
    "Melakukan pengecekan apakah kolom data numerikal terdapat ouliers atau tidak, Data Outlier disebut juga dengan data pencilan. Pengertian dari Outlier adalah data observasi yang muncul dengan nilai-nilai ekstrim, baik secara univariat ataupun multivariat. Yang dimaksud dengan nilai-nilai ekstrim dalam observasi adalah nilai yang jauh atau beda sama sekali dengan sebagian besar nilai lain dalam kelompoknya. Dalam ilmu data, kita sering ingin membuat asumsi tentang populasi tertentu. Namun adanya nilai ekstrem dapat berdampak signifikan pada kesimpulan hasil interpretasi yang kita amati dari data atau model machine learning. Dengan deteksi dan penanganan terterntu, anomali ini dapat dilihat sebagai bagian dari populasi yang berbeda."
   ]
  },
  {
   "cell_type": "code",
   "execution_count": 87,
   "id": "94cdbae6",
   "metadata": {},
   "outputs": [],
   "source": [
    "# Mengecek outliers\n",
    "def rumus_outlier(x):\n",
    "    q1 = np.percentile(x, 25)\n",
    "    q3 = np.percentile(x, 75)\n",
    "\n",
    "    iqr = q3 - q1\n",
    "\n",
    "    lower_outlier = q1 - (iqr * 1.5)\n",
    "    upper_outlier = q3 + (iqr * 1.5)\n",
    "\n",
    "    outliers = x[(x < lower_outlier) | (x > upper_outlier)]\n",
    "    return outliers"
   ]
  },
  {
   "cell_type": "code",
   "execution_count": 88,
   "id": "ad6f5868",
   "metadata": {},
   "outputs": [
    {
     "name": "stdout",
     "output_type": "stream",
     "text": [
      "-> Year memiliki 246 outlier\n",
      "-> Engine_Size memiliki 23 outlier\n",
      "-> Mileage memiliki 175 outlier\n",
      "-> Price memiliki 261 outlier\n"
     ]
    }
   ],
   "source": [
    "cek_ouliers = {}\n",
    "for num_feature in df.select_dtypes(['float','int']):\n",
    "    outliers = rumus_outlier(df[num_feature])\n",
    "    if len(outliers):\n",
    "        print(f\"-> {num_feature} memiliki {len(outliers)} outlier\")\n",
    "        cek_ouliers[num_feature] = outliers\n",
    "    else:\n",
    "        print(f\"-> {num_feature} tidak memilik outlier.\")\n",
    "        cek_ouliers[num_feature] = None"
   ]
  },
  {
   "cell_type": "markdown",
   "id": "9b5660b6",
   "metadata": {},
   "source": [
    "Boxplot atau yang dikenal sebagai whisker plot adalah plotting yang berguna untuk menampilkan ringkasan properties dari data seperti data minimum, Q1, median, Q3, dan data maksimum. Pada case ini kita akan melihat masing masing boxplot dari data numerikal untuk mengetahui data outliers yang memiliki nilai yang cukup ekstrim."
   ]
  },
  {
   "cell_type": "code",
   "execution_count": 89,
   "id": "c7adf738",
   "metadata": {},
   "outputs": [
    {
     "name": "stderr",
     "output_type": "stream",
     "text": [
      "C:\\Users\\fachri\\anaconda3\\lib\\site-packages\\seaborn\\_decorators.py:36: FutureWarning: Pass the following variable as a keyword arg: x. From version 0.12, the only valid positional argument will be `data`, and passing other arguments without an explicit keyword will result in an error or misinterpretation.\n",
      "  warnings.warn(\n",
      "C:\\Users\\fachri\\anaconda3\\lib\\site-packages\\seaborn\\_decorators.py:36: FutureWarning: Pass the following variable as a keyword arg: x. From version 0.12, the only valid positional argument will be `data`, and passing other arguments without an explicit keyword will result in an error or misinterpretation.\n",
      "  warnings.warn(\n",
      "C:\\Users\\fachri\\anaconda3\\lib\\site-packages\\seaborn\\_decorators.py:36: FutureWarning: Pass the following variable as a keyword arg: x. From version 0.12, the only valid positional argument will be `data`, and passing other arguments without an explicit keyword will result in an error or misinterpretation.\n",
      "  warnings.warn(\n",
      "C:\\Users\\fachri\\anaconda3\\lib\\site-packages\\seaborn\\_decorators.py:36: FutureWarning: Pass the following variable as a keyword arg: x. From version 0.12, the only valid positional argument will be `data`, and passing other arguments without an explicit keyword will result in an error or misinterpretation.\n",
      "  warnings.warn(\n"
     ]
    },
    {
     "data": {
      "image/png": "[encoded data removed]",
      "text/plain": [
       "<Figure size 1440x720 with 4 Axes>"
      ]
     },
     "metadata": {
      "needs_background": "light"
     },
     "output_type": "display_data"
    }
   ],
   "source": [
    "fig, axs = plt.subplots(2,2,figsize = (20,10))\n",
    "\n",
    "# melihat pesebaran data menggunakan boxplot dari kolom Year\n",
    "plt1 = sns.boxplot(df['Year'], ax = axs[0,0])\n",
    "\n",
    "# melihat pesebaran data menggunakan boxplot dari kolom Engine Size\n",
    "plt2 = sns.boxplot(df['Engine_Size'], ax = axs[0,1])\n",
    "\n",
    "## melihat pesebaran data menggunakan boxplot dari kolom Mileage\n",
    "plt3 = sns.boxplot(df['Mileage'], ax=axs[1,0])\n",
    "\n",
    "## melihat pesebaran data menggunakan boxplot dari kolom Price\n",
    "plt4 = sns.boxplot(df['Price'], ax=axs[1,1])\n",
    "plt.show()"
   ]
  },
  {
   "cell_type": "markdown",
   "id": "04f9d533",
   "metadata": {},
   "source": [
    "Walaupun keberadaan outlier dapat mempengaruhi model machine learning kita, tapi tidak selamanya outlier harus dihilangkan. Adanya outlier dalam suatu data bukan berarti data tersebut buruk, bisa jadi outlier yang ada mengandung informasi yang berguna yang bisa dimanfaatkan untuk analisis data.\n",
    "\n",
    "Untuk kasus kali ini, outlier yang ada akan dihilangkan yang memiliki nilai paling extreme saja, karena jika semua outliernya dihilangkan maka akan sedikit sekali data yang tersisa. sehingga tentu saja tidak merepresentasikan data yang sebenarnya.\n",
    "\n",
    "Dengan melihat grafik distribution plot, terlihat ada 3 buah feature yang memiliki outlier yg cukup ekstrem nilainya dibanding data yang lain. yaitu kolom mileage yang memiliki isi 10 juta dan 20 juta, kolom Year yang memiliki isi tahun dibawah 1970, dan kolom Price yang memiliki isi diatas 700.000. Data-data inilah yang akan kita hilangkan outlier extreme nya. sedangkan untuk data yg lain akan kita biarkan saja outlier nya karena jika dihilangkan, maka informasi yang tersedia menjadi sedikit sekali"
   ]
  },
  {
   "cell_type": "code",
   "execution_count": 90,
   "id": "826bb732",
   "metadata": {},
   "outputs": [],
   "source": [
    "df = df.drop(df[df['Mileage'] >= 7500000].index) #MELAKUKAN PENGHAPUSAN Outliers ekstrim dari kolom mileage"
   ]
  },
  {
   "cell_type": "code",
   "execution_count": 91,
   "id": "6a49b9da",
   "metadata": {},
   "outputs": [],
   "source": [
    "df= df.drop(df[df['Year'] <= 1970].index) #MELAKUKAN PENGHAPUSAN Outliers ekstrim dari kolom Year"
   ]
  },
  {
   "cell_type": "code",
   "execution_count": 92,
   "id": "93406285",
   "metadata": {},
   "outputs": [],
   "source": [
    "df = df.drop(df[df['Price']>= 700000].index) #MELAKUKAN PENGHAPUSAN Outliers ekstrim dari kolom price"
   ]
  },
  {
   "cell_type": "markdown",
   "id": "a5999d1e",
   "metadata": {},
   "source": [
    "# Part 3 : Feature Selection dan Feature Engineering"
   ]
  },
  {
   "cell_type": "markdown",
   "id": "77e11165",
   "metadata": {},
   "source": [
    "### Feature Selection\n",
    "\n",
    "Variabel input yang diberikan kedalam model machine learning berupa kolom data disebut dengan fitur. Untuk mendapatkan model yang optimal, kita perlu memastikan bahwa kita hanya menggunakan fitur-fitur yang penting. Metode memilih fitur penting dari data disebut dengan Feature Selection. Dalam case ini Feature selection dilakukan dengan menggunakan 3 metode yakni :\n",
    "\n",
    "1. Korelasi\n",
    "\n",
    "Korelasi digunakan untuk menyatakan keterkaitan fitur numerikal dengan variabel target yang juga numerikal. Namun, korelasi bukanlah kausalitas (Hubungan sebab akibat). Untuk korelasi yang digunakan dalam case ini adalah korelasi Spearmann dikarenakan tidak memiliki syarat berdistribusi normal. Hal ini cocok dengan dataset yang digunakan karena setiap kolomnya tidak berdistribusi dengan normal.  Korelasi memiliki range dari -1 sampai dengan 1. Korelasi positif menunjukkan bahwa kedua nilai kolom data searah atau linier (Nilai dari 0 sampai dengan 1), sedangkan korelasi negatif menunjukkan bahwa kedua nilai kolom data berlawanan arah (Nilai dari 0 sampai dengan -1).\n",
    "\n",
    "2. Korelasi Ratio\n",
    "\n",
    "Korelasi Ratio digunakan untuk menyatakan keterkaitan fitur kategorikal dengan variabel target numerikal. Namun, korelasi ratio bukanlah kausalitas (Hubungan sebab akibat). Untuk korelasi yang digunakan dalam case ini adalah korelasi Spearmann dikarenakan tidak memiliki syarat berdistribusi normal. Hal ini cocok dengan dataset yang digunakan karena setiap kolomnya tidak berdistribusi dengan normal.  Korelasi ratio memiliki range dari 0 sampai dengan 1. \n",
    "\n",
    "3. Domain Knowledge\n",
    "\n",
    "Domain Knowledge/pengetahuan dibutuhkan untuk mengetahui apakah dapat dilakukan penghapusan kolom atau tidak berdasarkan case dari Saudi Arabia Used Cars ini. Hal ini dapat dilihat dari sisi otomotif mobil maupun parameter penjualan mobil di Saudi Arabia itu sendiri. "
   ]
  },
  {
   "cell_type": "markdown",
   "id": "d9a47e6c",
   "metadata": {},
   "source": [
    "----"
   ]
  },
  {
   "cell_type": "markdown",
   "id": "a73edc7e",
   "metadata": {},
   "source": [
    "Domain knowlegde yang digunakan untuk feature selection dari case ini tepatnya dilakukan pada kolom **Make** yang akan dihapus karena sudah terwakili oleh kolom **Type**. Secara logika kolom **Type** atau Merek mobil sama sama menginterpretasikan jenis mobil seperti Kolom **Make** atau nama Perusahaan pembuat mobil. Namun merek mobil lebih menginterpretasikan jenis mobil yang akan dijual dibandingkan dengan perusahaan pembuat mobil. "
   ]
  },
  {
   "cell_type": "code",
   "execution_count": 93,
   "id": "9609d38d",
   "metadata": {},
   "outputs": [],
   "source": [
    "df.drop(columns=['Make'], inplace=True) "
   ]
  },
  {
   "cell_type": "markdown",
   "id": "7dfa1f45",
   "metadata": {},
   "source": [
    "Kolom dengan negotiation true dilakukan penghapusan karena **kita ingin memprediksi harga mobil yang real** atau tidak berupa angka nol."
   ]
  },
  {
   "cell_type": "code",
   "execution_count": 94,
   "id": "61606f37",
   "metadata": {},
   "outputs": [],
   "source": [
    "df= df.drop(df[df['Price']==0].index)"
   ]
  },
  {
   "cell_type": "markdown",
   "id": "4dbf52fa",
   "metadata": {},
   "source": [
    "kolom negotiable dilakukan penghapusan karena isi dari kolom tersebut yang bernilai **True** telah dihapus sehingga isinya menjadi tunggal yakni **False** saja"
   ]
  },
  {
   "cell_type": "code",
   "execution_count": 95,
   "id": "608ddb61",
   "metadata": {},
   "outputs": [],
   "source": [
    "df.drop(columns=['Negotiable'], inplace = True)"
   ]
  },
  {
   "cell_type": "code",
   "execution_count": 96,
   "id": "0d4095ad",
   "metadata": {},
   "outputs": [
    {
     "data": {
      "image/png": "[encoded data removed]",
      "text/plain": [
       "<Figure size 720x720 with 2 Axes>"
      ]
     },
     "metadata": {
      "needs_background": "light"
     },
     "output_type": "display_data"
    }
   ],
   "source": [
    "plt.figure(figsize=(10,10)) #korelasi dari kolom fitur ke kolom target\n",
    "sns.heatmap(df.corr('spearman').sort_values('Price', ascending=False)[['Price']][1:], annot=True) \n",
    "plt.show()"
   ]
  },
  {
   "cell_type": "markdown",
   "id": "72497d3c",
   "metadata": {},
   "source": [
    "walaupun kolom engine size memiliki korelasi yang sangat rendah **(0.38)** namun secara domain knowledge kita tidak akan menghapusnya dikarenakan engine size sangat berpengaruh terhadap performa mobil bekas yang akan dijual. Begitu juga kolom mileage **(-0,28)** yang tidak akan dilakukan penghapusan karena menjadi parameter masyarakat dalam penjualan mobil bekas"
   ]
  },
  {
   "cell_type": "code",
   "execution_count": 97,
   "id": "714fa4da",
   "metadata": {},
   "outputs": [],
   "source": [
    "import dython # mengimport library dython untuk mengetahui korelasi ratio"
   ]
  },
  {
   "cell_type": "code",
   "execution_count": 98,
   "id": "2309e6e4",
   "metadata": {},
   "outputs": [],
   "source": [
    "from dython.nominal import correlation_ratio #mengimport korelasi ratio dari library dython"
   ]
  },
  {
   "cell_type": "code",
   "execution_count": 99,
   "id": "08908f19",
   "metadata": {},
   "outputs": [],
   "source": [
    "col = df.columns[df.dtypes == 'object'] # subset kolom objek dari dataset yang digunakan"
   ]
  },
  {
   "cell_type": "code",
   "execution_count": 100,
   "id": "0f01eddd",
   "metadata": {},
   "outputs": [],
   "source": [
    "ratio_2 = [] # melooping kolom objeck agar dapat dimasukkan kedalam korelasi ratio secara bersamaan\n",
    "\n",
    "for i in col:\n",
    "    corr = round(correlation_ratio(df[i], df['Price']), 2)\n",
    "    ratio_2.append(corr)"
   ]
  },
  {
   "cell_type": "code",
   "execution_count": 101,
   "id": "05d857cd",
   "metadata": {},
   "outputs": [],
   "source": [
    "df_cr_ratio_2 = pd.DataFrame(data = [ratio_2], columns = col, index=['Price']) #membuat variable dari dataframe"
   ]
  },
  {
   "cell_type": "code",
   "execution_count": 102,
   "id": "03b7c1fe",
   "metadata": {},
   "outputs": [
    {
     "data": {
      "text/plain": [
       "<AxesSubplot:>"
      ]
     },
     "execution_count": 102,
     "metadata": {},
     "output_type": "execute_result"
    },
    {
     "data": {
      "image/png": "[encoded data removed]",
      "text/plain": [
       "<Figure size 1440x72 with 1 Axes>"
      ]
     },
     "metadata": {
      "needs_background": "light"
     },
     "output_type": "display_data"
    }
   ],
   "source": [
    "plt.figure(figsize=(20,1))\n",
    "sns.heatmap(df_cr_ratio_2, annot=True, cbar =False)"
   ]
  },
  {
   "cell_type": "markdown",
   "id": "7bbede90",
   "metadata": {},
   "source": [
    "Berdasarkan korelasi ratio kolom region, Gear Type dan Origin memiliki nilai yang rendah yakni (0,16), (0,12), dan (0,19) namun hanya dilakukan penghapusan kolom Origin dikarenakan kolom origin tidak termasuk ke dalam parameter penjualan mobil bekas di arab saudi menurut [kenresearch.com](https://www.kenresearch.com/blog/2020/09/future-of-saudi-arabia-used-car-market-growth-rate-ken-research/). \n",
    "\n",
    "Kolom Gear Type tidak dilakukan penghapusan karena secara domain knowledge gear type merepresentasikan jenis transmissi mobil bekas tersebut menurut [suzuki](https://www.suzuki.co.id/tips-trik/ketahui-ini-perbedaan-jenis-transmisi-otomatis-dan-manual?pages=all).\n",
    "\n",
    "kolom region tidak dilakukan penghapusan karena menurut [kenresearch.com](https://www.kenresearch.com/blog/2020/09/future-of-saudi-arabia-used-car-market-growth-rate-ken-research/) **region** termasuk ke dalam ke dalam parameter penjualan mobil bekas di arab saudi."
   ]
  },
  {
   "cell_type": "code",
   "execution_count": 103,
   "id": "051edc4d",
   "metadata": {},
   "outputs": [],
   "source": [
    "df.drop(columns=['Origin'], axis=1, inplace=True)"
   ]
  },
  {
   "cell_type": "markdown",
   "id": "2493e67c",
   "metadata": {},
   "source": [
    "### Feature Engineering\n",
    "\n",
    "Secara garis besar terdapat dua tujuan dari feature engineering yakni mempersiapkan dataset yang kompatibel dengan algoritma machine learning yang digunakan dan meningkatkan performa dari sebuah model *machine learning*. \n",
    "\n",
    "1. Melakukan recategorize\n",
    "\n",
    "recategorize adalah proses mengubah data kategorikal yang sudah ada menjadi kategorikal baru yang jumlahnya lebih sedikit. recategorize dilakukan dengan tujuan agar model Machine learning lebih mudah dalam membaca atau mempelajari pola/pattern data. Recategorize juga bertujuan untuk memperingan proses komputasi karena jumlah kolom ketika di encode menjadi berkurang. \n",
    "\n",
    "2. Melakukan encoding\n",
    "\n",
    "Di dalam dataset yang digunakan terdapat beberapa fitur yang memiliki tipe data Object, agar dapat digunakan di dalam model machine learning maka fitur-fitur tersebut akan kita ubah (encoding). "
   ]
  },
  {
   "cell_type": "markdown",
   "id": "017ad34f",
   "metadata": {},
   "source": [
    "-----"
   ]
  },
  {
   "cell_type": "markdown",
   "id": "ee49ff31",
   "metadata": {},
   "source": [
    "### 1. Melakukan Recategorize\n",
    "Pada case ini recategorize dilakukan pada kolom kategorikal **region** dan **type** karena pada kolom tersebut terdapat nilai unique yang banyak sehingga dapat memperberat proses komputasi setelah di encode. Recategorize dilakukan dengan mengubah variabel nilai unique dengan jumlah sedikit dari kedua kolom tersebut menjadi others."
   ]
  },
  {
   "cell_type": "code",
   "execution_count": 104,
   "id": "f3682c61",
   "metadata": {},
   "outputs": [],
   "source": [
    "def Region_change(x): # mengubah isi data dari kolom region\n",
    "    if x in ['Riyadh', 'Dammam', 'Jeddah', 'Qassim', 'Al-Medina', 'Al-Ahsa', 'Aseer', 'Makkah',\n",
    "             'Taef', 'Tabouk', 'Khobar', 'Abha', 'Jazan']:\n",
    "        return x\n",
    "    else :\n",
    "        return 'Others'"
   ]
  },
  {
   "cell_type": "code",
   "execution_count": 105,
   "id": "3b0d8538",
   "metadata": {},
   "outputs": [],
   "source": [
    "df['Region'] = df['Region'].apply(Region_change) #melakukan recategorize pada kolom region"
   ]
  },
  {
   "cell_type": "code",
   "execution_count": 106,
   "id": "5f46edb4",
   "metadata": {},
   "outputs": [],
   "source": [
    "def Type_change(x): #mengubah isi data dari kolom type\n",
    "    if x in ['Land Cruiser', 'Camry', 'Hilux', 'Accent', 'Yukon', 'Sonata', 'Tahoe', 'Taurus', 'Elantra', 'Corolla', \n",
    "             'Expedition', 'Furniture', 'Suburban', 'Prado', 'Patrol', 'Accord', 'S', 'Range Rover', 'ES', 'Yaris', \n",
    "             'Sunny', 'LX', 'Pajero', 'Sierra', 'Land Cruiser Pickup', 'Charger', 'Datsun', 'Caprice', 'FJ', 'Innova', 'Marquis']:\n",
    "        return x\n",
    "    else :\n",
    "        return 'Others'"
   ]
  },
  {
   "cell_type": "code",
   "execution_count": 107,
   "id": "4fedd84b",
   "metadata": {},
   "outputs": [],
   "source": [
    "df['Type'] = df['Type'].apply(Type_change) #melakukan recategorize pada kolom type"
   ]
  },
  {
   "cell_type": "markdown",
   "id": "9e28ef13",
   "metadata": {},
   "source": [
    "### 2. Melakukan Encoding\n",
    "Fitur yanng diubah adalah fitur **Type, Region, dan Options** akan diubah dengan metode one hot encoding karena tidak memiliki urutan tertentu dan **gear_type** yang diubah dengan metode binary encoding karena hanya memiliki 2 unique value yang setara."
   ]
  },
  {
   "cell_type": "code",
   "execution_count": 108,
   "id": "87438f4c",
   "metadata": {},
   "outputs": [],
   "source": [
    "df['Gear_Type'] = df['Gear_Type'].map({'Automatic':1, 'Manual':0}) #melakukan binary encoding"
   ]
  },
  {
   "cell_type": "code",
   "execution_count": 109,
   "id": "c811e240",
   "metadata": {},
   "outputs": [],
   "source": [
    "df = pd.get_dummies(df, columns=['Type', 'Region', 'Options']) #melakukan one hot encoding"
   ]
  },
  {
   "cell_type": "markdown",
   "id": "4e34f733",
   "metadata": {},
   "source": [
    "# Part 4 : Modelling"
   ]
  },
  {
   "cell_type": "code",
   "execution_count": 176,
   "id": "c9c69b04",
   "metadata": {},
   "outputs": [],
   "source": [
    "from sklearn.model_selection import train_test_split, RandomizedSearchCV, KFold\n",
    "\n",
    "#mengimport matrix evaluasi\n",
    "from sklearn.metrics import mean_absolute_error, r2_score, mean_squared_error\n",
    "\n",
    "# Import Libraries for modelling\n",
    "from sklearn.linear_model import LinearRegression, ElasticNet, Lasso, Ridge\n",
    "from sklearn.neighbors import KNeighborsRegressor\n",
    "from sklearn.tree import DecisionTreeRegressor\n",
    "from sklearn.ensemble import RandomForestRegressor, AdaBoostRegressor, GradientBoostingRegressor\n",
    "from xgboost.sklearn import XGBRegressor\n",
    "from sklearn.kernel_ridge import KernelRidge"
   ]
  },
  {
   "cell_type": "markdown",
   "id": "dbb072fe",
   "metadata": {},
   "source": [
    "### Memilih Model Terbaik\n",
    "Model yang akan digunakan untuk memprediksi nilai Price disini ada 10, terdiri dari 6 base model dan 4 model ensemble, yang kemudian dipilih salah satu model terbaik. Model tersebut adalah:\n",
    "\n",
    "Base Model:\n",
    "\n",
    "1. Linear Regression\n",
    "2. KNN Regressor\n",
    "3. Decision Tree Regressor\n",
    "4. Rigde Regression\n",
    "5. Lasso Regression\n",
    "6. Elastic Net\n",
    "\n",
    "Ensemble Model:\n",
    "\n",
    "1. Random Forest Regressor\n",
    "2. Ada Boost Regressor\n",
    "3. Gradient Boosting Regressor\n",
    "4. Xtreme Gradient Boosting Regessor"
   ]
  },
  {
   "cell_type": "code",
   "execution_count": 111,
   "id": "871fc4cc",
   "metadata": {},
   "outputs": [],
   "source": [
    "X = df.drop(columns='Price') # fitur\n",
    "y = df['Price'] #target"
   ]
  },
  {
   "cell_type": "code",
   "execution_count": 151,
   "id": "73edde19",
   "metadata": {},
   "outputs": [],
   "source": [
    "X_train, X_test, y_train, y_test = train_test_split(X, y, test_size = .15, random_state = 42) #melakukan train test split"
   ]
  },
  {
   "cell_type": "code",
   "execution_count": 113,
   "id": "3b7eb162",
   "metadata": {},
   "outputs": [],
   "source": [
    "# Define Models Algoritm\n",
    "lr = LinearRegression()\n",
    "knn = KNeighborsRegressor()\n",
    "dt = DecisionTreeRegressor()\n",
    "r = Ridge()\n",
    "ls = Lasso()\n",
    "en = ElasticNet()\n",
    "rf = RandomForestRegressor()\n",
    "ada = AdaBoostRegressor()\n",
    "gb = GradientBoostingRegressor()\n",
    "xgb = XGBRegressor()"
   ]
  },
  {
   "cell_type": "code",
   "execution_count": 220,
   "id": "44b6959c",
   "metadata": {},
   "outputs": [],
   "source": [
    "#membuat def function untuk memodelkan machnine learning dan untuk mempermudah penggunaan evaluation matrix"
   ]
  },
  {
   "cell_type": "code",
   "execution_count": 114,
   "id": "d5d793ab",
   "metadata": {},
   "outputs": [],
   "source": [
    "def Eva_Matrix_Base(model, X_train, X_test, y_train, y_test, Nama): \n",
    "    Model = model.fit(X_train, y_train)                             \n",
    "    y_pred_tr = Model.predict(X_train)\n",
    "    R2_train = r2_score(y_train, y_pred_tr)\n",
    "    MAE_train = mean_absolute_error(y_train, y_pred_tr)\n",
    "    MSE_train = mean_squared_error(y_train, y_pred_tr)\n",
    "    RMSE_train = np.sqrt(MSE_train)\n",
    "    y_pred_ts = Model.predict(X_test)\n",
    "    R2_test = r2_score(y_test, y_pred_ts)\n",
    "    MAE_test = mean_absolute_error(y_test, y_pred_ts)\n",
    "    MSE_test = mean_squared_error(y_test, y_pred_ts)\n",
    "    RMSE_test = np.sqrt(MSE_test)\n",
    "    eva_data = {\n",
    "    \"Training\" + Nama : [R2_train, MAE_train, RMSE_train],\n",
    "    \"Testing\" + Nama : [R2_test, MAE_test, RMSE_test],\n",
    "    }\n",
    "    df = pd.DataFrame(eva_data, index=['R2', 'MAE', 'RMSE'])\n",
    "    \n",
    "    \n",
    "    return df"
   ]
  },
  {
   "cell_type": "code",
   "execution_count": 115,
   "id": "d16fe6a6",
   "metadata": {},
   "outputs": [],
   "source": [
    "df_LinReg = Eva_Matrix_Base(lr, X_train, X_test, y_train, y_test, \"Regresi Linear\") #model regresi linier"
   ]
  },
  {
   "cell_type": "code",
   "execution_count": 116,
   "id": "12a490ce",
   "metadata": {},
   "outputs": [
    {
     "data": {
      "text/html": [
       "<div>\n",
       "<style scoped>\n",
       "    .dataframe tbody tr th:only-of-type {\n",
       "        vertical-align: middle;\n",
       "    }\n",
       "\n",
       "    .dataframe tbody tr th {\n",
       "        vertical-align: top;\n",
       "    }\n",
       "\n",
       "    .dataframe thead th {\n",
       "        text-align: right;\n",
       "    }\n",
       "</style>\n",
       "<table border=\"1\" class=\"dataframe\">\n",
       "  <thead>\n",
       "    <tr style=\"text-align: right;\">\n",
       "      <th></th>\n",
       "      <th>R2</th>\n",
       "      <th>MAE</th>\n",
       "      <th>RMSE</th>\n",
       "    </tr>\n",
       "  </thead>\n",
       "  <tbody>\n",
       "    <tr>\n",
       "      <th>TrainingRegresi Linear</th>\n",
       "      <td>0.552072</td>\n",
       "      <td>29249.311919</td>\n",
       "      <td>48031.143399</td>\n",
       "    </tr>\n",
       "    <tr>\n",
       "      <th>TestingRegresi Linear</th>\n",
       "      <td>0.566970</td>\n",
       "      <td>25547.219268</td>\n",
       "      <td>37901.974078</td>\n",
       "    </tr>\n",
       "  </tbody>\n",
       "</table>\n",
       "</div>"
      ],
      "text/plain": [
       "                              R2           MAE          RMSE\n",
       "TrainingRegresi Linear  0.552072  29249.311919  48031.143399\n",
       "TestingRegresi Linear   0.566970  25547.219268  37901.974078"
      ]
     },
     "execution_count": 116,
     "metadata": {},
     "output_type": "execute_result"
    }
   ],
   "source": [
    "df_LinReg.T #evaluation matrix regresi linier"
   ]
  },
  {
   "cell_type": "code",
   "execution_count": 117,
   "id": "ed7946e9",
   "metadata": {},
   "outputs": [],
   "source": [
    "df_Ridge = Eva_Matrix_Base(r, X_train, X_test, y_train, y_test, \"Ridge\") #model ridge"
   ]
  },
  {
   "cell_type": "code",
   "execution_count": 118,
   "id": "b23a213e",
   "metadata": {},
   "outputs": [
    {
     "data": {
      "text/html": [
       "<div>\n",
       "<style scoped>\n",
       "    .dataframe tbody tr th:only-of-type {\n",
       "        vertical-align: middle;\n",
       "    }\n",
       "\n",
       "    .dataframe tbody tr th {\n",
       "        vertical-align: top;\n",
       "    }\n",
       "\n",
       "    .dataframe thead th {\n",
       "        text-align: right;\n",
       "    }\n",
       "</style>\n",
       "<table border=\"1\" class=\"dataframe\">\n",
       "  <thead>\n",
       "    <tr style=\"text-align: right;\">\n",
       "      <th></th>\n",
       "      <th>R2</th>\n",
       "      <th>MAE</th>\n",
       "      <th>RMSE</th>\n",
       "    </tr>\n",
       "  </thead>\n",
       "  <tbody>\n",
       "    <tr>\n",
       "      <th>TrainingRidge</th>\n",
       "      <td>0.551976</td>\n",
       "      <td>29262.179522</td>\n",
       "      <td>48036.301233</td>\n",
       "    </tr>\n",
       "    <tr>\n",
       "      <th>TestingRidge</th>\n",
       "      <td>0.566320</td>\n",
       "      <td>25554.148341</td>\n",
       "      <td>37930.421889</td>\n",
       "    </tr>\n",
       "  </tbody>\n",
       "</table>\n",
       "</div>"
      ],
      "text/plain": [
       "                     R2           MAE          RMSE\n",
       "TrainingRidge  0.551976  29262.179522  48036.301233\n",
       "TestingRidge   0.566320  25554.148341  37930.421889"
      ]
     },
     "execution_count": 118,
     "metadata": {},
     "output_type": "execute_result"
    }
   ],
   "source": [
    "df_Ridge.T #evaluation matrix ridge"
   ]
  },
  {
   "cell_type": "code",
   "execution_count": 119,
   "id": "ce715f94",
   "metadata": {},
   "outputs": [
    {
     "name": "stderr",
     "output_type": "stream",
     "text": [
      "C:\\Users\\fachri\\anaconda3\\lib\\site-packages\\sklearn\\linear_model\\_coordinate_descent.py:647: ConvergenceWarning: Objective did not converge. You might want to increase the number of iterations, check the scale of the features or consider increasing regularisation. Duality gap: 3.662e+12, tolerance: 1.671e+09\n",
      "  model = cd_fast.enet_coordinate_descent(\n"
     ]
    }
   ],
   "source": [
    "df_Lasso = Eva_Matrix_Base(ls, X_train, X_test, y_train, y_test, \"Lasso\") #model lasso"
   ]
  },
  {
   "cell_type": "code",
   "execution_count": 120,
   "id": "6cc4e594",
   "metadata": {},
   "outputs": [
    {
     "data": {
      "text/html": [
       "<div>\n",
       "<style scoped>\n",
       "    .dataframe tbody tr th:only-of-type {\n",
       "        vertical-align: middle;\n",
       "    }\n",
       "\n",
       "    .dataframe tbody tr th {\n",
       "        vertical-align: top;\n",
       "    }\n",
       "\n",
       "    .dataframe thead th {\n",
       "        text-align: right;\n",
       "    }\n",
       "</style>\n",
       "<table border=\"1\" class=\"dataframe\">\n",
       "  <thead>\n",
       "    <tr style=\"text-align: right;\">\n",
       "      <th></th>\n",
       "      <th>R2</th>\n",
       "      <th>MAE</th>\n",
       "      <th>RMSE</th>\n",
       "    </tr>\n",
       "  </thead>\n",
       "  <tbody>\n",
       "    <tr>\n",
       "      <th>TrainingLasso</th>\n",
       "      <td>0.552072</td>\n",
       "      <td>29248.801524</td>\n",
       "      <td>48031.176985</td>\n",
       "    </tr>\n",
       "    <tr>\n",
       "      <th>TestingLasso</th>\n",
       "      <td>0.567022</td>\n",
       "      <td>25542.066630</td>\n",
       "      <td>37899.710039</td>\n",
       "    </tr>\n",
       "  </tbody>\n",
       "</table>\n",
       "</div>"
      ],
      "text/plain": [
       "                     R2           MAE          RMSE\n",
       "TrainingLasso  0.552072  29248.801524  48031.176985\n",
       "TestingLasso   0.567022  25542.066630  37899.710039"
      ]
     },
     "execution_count": 120,
     "metadata": {},
     "output_type": "execute_result"
    }
   ],
   "source": [
    "df_Lasso.T #evaluation matrix lasso"
   ]
  },
  {
   "cell_type": "code",
   "execution_count": 121,
   "id": "a2b4a471",
   "metadata": {},
   "outputs": [],
   "source": [
    "df_ElasticNet = Eva_Matrix_Base(en, X_train, X_test, y_train, y_test, \"ElasticNet\") #model elastic net"
   ]
  },
  {
   "cell_type": "code",
   "execution_count": 122,
   "id": "d2a399ad",
   "metadata": {},
   "outputs": [
    {
     "data": {
      "text/html": [
       "<div>\n",
       "<style scoped>\n",
       "    .dataframe tbody tr th:only-of-type {\n",
       "        vertical-align: middle;\n",
       "    }\n",
       "\n",
       "    .dataframe tbody tr th {\n",
       "        vertical-align: top;\n",
       "    }\n",
       "\n",
       "    .dataframe thead th {\n",
       "        text-align: right;\n",
       "    }\n",
       "</style>\n",
       "<table border=\"1\" class=\"dataframe\">\n",
       "  <thead>\n",
       "    <tr style=\"text-align: right;\">\n",
       "      <th></th>\n",
       "      <th>R2</th>\n",
       "      <th>MAE</th>\n",
       "      <th>RMSE</th>\n",
       "    </tr>\n",
       "  </thead>\n",
       "  <tbody>\n",
       "    <tr>\n",
       "      <th>TrainingElasticNet</th>\n",
       "      <td>0.345027</td>\n",
       "      <td>36480.496825</td>\n",
       "      <td>58080.530290</td>\n",
       "    </tr>\n",
       "    <tr>\n",
       "      <th>TestingElasticNet</th>\n",
       "      <td>0.375424</td>\n",
       "      <td>30433.979952</td>\n",
       "      <td>45519.300335</td>\n",
       "    </tr>\n",
       "  </tbody>\n",
       "</table>\n",
       "</div>"
      ],
      "text/plain": [
       "                          R2           MAE          RMSE\n",
       "TrainingElasticNet  0.345027  36480.496825  58080.530290\n",
       "TestingElasticNet   0.375424  30433.979952  45519.300335"
      ]
     },
     "execution_count": 122,
     "metadata": {},
     "output_type": "execute_result"
    }
   ],
   "source": [
    "df_ElasticNet.T #evaluation matrix elastic net"
   ]
  },
  {
   "cell_type": "code",
   "execution_count": 123,
   "id": "1a2abd20",
   "metadata": {},
   "outputs": [],
   "source": [
    "df_DecisionTree = Eva_Matrix_Base(dt, X_train, X_test, y_train, y_test, \"Decision Tree Regressor\") #model decision tree"
   ]
  },
  {
   "cell_type": "code",
   "execution_count": 124,
   "id": "885f8618",
   "metadata": {},
   "outputs": [
    {
     "data": {
      "text/html": [
       "<div>\n",
       "<style scoped>\n",
       "    .dataframe tbody tr th:only-of-type {\n",
       "        vertical-align: middle;\n",
       "    }\n",
       "\n",
       "    .dataframe tbody tr th {\n",
       "        vertical-align: top;\n",
       "    }\n",
       "\n",
       "    .dataframe thead th {\n",
       "        text-align: right;\n",
       "    }\n",
       "</style>\n",
       "<table border=\"1\" class=\"dataframe\">\n",
       "  <thead>\n",
       "    <tr style=\"text-align: right;\">\n",
       "      <th></th>\n",
       "      <th>R2</th>\n",
       "      <th>MAE</th>\n",
       "      <th>RMSE</th>\n",
       "    </tr>\n",
       "  </thead>\n",
       "  <tbody>\n",
       "    <tr>\n",
       "      <th>TrainingDecision Tree Regressor</th>\n",
       "      <td>0.999246</td>\n",
       "      <td>96.147920</td>\n",
       "      <td>1970.526276</td>\n",
       "    </tr>\n",
       "    <tr>\n",
       "      <th>TestingDecision Tree Regressor</th>\n",
       "      <td>0.478180</td>\n",
       "      <td>21962.169284</td>\n",
       "      <td>41606.718522</td>\n",
       "    </tr>\n",
       "  </tbody>\n",
       "</table>\n",
       "</div>"
      ],
      "text/plain": [
       "                                       R2           MAE          RMSE\n",
       "TrainingDecision Tree Regressor  0.999246     96.147920   1970.526276\n",
       "TestingDecision Tree Regressor   0.478180  21962.169284  41606.718522"
      ]
     },
     "execution_count": 124,
     "metadata": {},
     "output_type": "execute_result"
    }
   ],
   "source": [
    "df_DecisionTree.T # evaluation matrix decision tree"
   ]
  },
  {
   "cell_type": "code",
   "execution_count": 125,
   "id": "040aee7d",
   "metadata": {},
   "outputs": [],
   "source": [
    "df_KNN = Eva_Matrix_Base(knn, X_train, X_test, y_train, y_test, \"KNN\") # model knn"
   ]
  },
  {
   "cell_type": "code",
   "execution_count": 127,
   "id": "f029095d",
   "metadata": {},
   "outputs": [
    {
     "data": {
      "text/html": [
       "<div>\n",
       "<style scoped>\n",
       "    .dataframe tbody tr th:only-of-type {\n",
       "        vertical-align: middle;\n",
       "    }\n",
       "\n",
       "    .dataframe tbody tr th {\n",
       "        vertical-align: top;\n",
       "    }\n",
       "\n",
       "    .dataframe thead th {\n",
       "        text-align: right;\n",
       "    }\n",
       "</style>\n",
       "<table border=\"1\" class=\"dataframe\">\n",
       "  <thead>\n",
       "    <tr style=\"text-align: right;\">\n",
       "      <th></th>\n",
       "      <th>R2</th>\n",
       "      <th>MAE</th>\n",
       "      <th>RMSE</th>\n",
       "    </tr>\n",
       "  </thead>\n",
       "  <tbody>\n",
       "    <tr>\n",
       "      <th>TrainingKNN</th>\n",
       "      <td>0.446603</td>\n",
       "      <td>34416.986502</td>\n",
       "      <td>53387.224661</td>\n",
       "    </tr>\n",
       "    <tr>\n",
       "      <th>TestingKNN</th>\n",
       "      <td>0.144023</td>\n",
       "      <td>35562.593019</td>\n",
       "      <td>53288.569868</td>\n",
       "    </tr>\n",
       "  </tbody>\n",
       "</table>\n",
       "</div>"
      ],
      "text/plain": [
       "                   R2           MAE          RMSE\n",
       "TrainingKNN  0.446603  34416.986502  53387.224661\n",
       "TestingKNN   0.144023  35562.593019  53288.569868"
      ]
     },
     "execution_count": 127,
     "metadata": {},
     "output_type": "execute_result"
    }
   ],
   "source": [
    "df_KNN.T #evaluation matrix knn"
   ]
  },
  {
   "cell_type": "code",
   "execution_count": 128,
   "id": "c79b88fb",
   "metadata": {},
   "outputs": [],
   "source": [
    "df_RF = Eva_Matrix_Base(rf, X_train, X_test, y_train, y_test, \"Random Forest Regressor\") #model random forest"
   ]
  },
  {
   "cell_type": "code",
   "execution_count": 130,
   "id": "694d10ce",
   "metadata": {},
   "outputs": [
    {
     "data": {
      "text/html": [
       "<div>\n",
       "<style scoped>\n",
       "    .dataframe tbody tr th:only-of-type {\n",
       "        vertical-align: middle;\n",
       "    }\n",
       "\n",
       "    .dataframe tbody tr th {\n",
       "        vertical-align: top;\n",
       "    }\n",
       "\n",
       "    .dataframe thead th {\n",
       "        text-align: right;\n",
       "    }\n",
       "</style>\n",
       "<table border=\"1\" class=\"dataframe\">\n",
       "  <thead>\n",
       "    <tr style=\"text-align: right;\">\n",
       "      <th></th>\n",
       "      <th>R2</th>\n",
       "      <th>MAE</th>\n",
       "      <th>RMSE</th>\n",
       "    </tr>\n",
       "  </thead>\n",
       "  <tbody>\n",
       "    <tr>\n",
       "      <th>TrainingRandom Forest Regressor</th>\n",
       "      <td>0.962503</td>\n",
       "      <td>7525.832374</td>\n",
       "      <td>13896.868063</td>\n",
       "    </tr>\n",
       "    <tr>\n",
       "      <th>TestingRandom Forest Regressor</th>\n",
       "      <td>0.752125</td>\n",
       "      <td>16474.692589</td>\n",
       "      <td>28676.068913</td>\n",
       "    </tr>\n",
       "  </tbody>\n",
       "</table>\n",
       "</div>"
      ],
      "text/plain": [
       "                                       R2           MAE          RMSE\n",
       "TrainingRandom Forest Regressor  0.962503   7525.832374  13896.868063\n",
       "TestingRandom Forest Regressor   0.752125  16474.692589  28676.068913"
      ]
     },
     "execution_count": 130,
     "metadata": {},
     "output_type": "execute_result"
    }
   ],
   "source": [
    "df_RF.T #evaluation matrix random forest"
   ]
  },
  {
   "cell_type": "code",
   "execution_count": 131,
   "id": "baeab908",
   "metadata": {},
   "outputs": [],
   "source": [
    "df_ADA = Eva_Matrix_Base(ada, X_train, X_test, y_train, y_test, \"Ada Boost Regressor\") # model ada boost"
   ]
  },
  {
   "cell_type": "code",
   "execution_count": 132,
   "id": "b44b57cf",
   "metadata": {},
   "outputs": [
    {
     "data": {
      "text/html": [
       "<div>\n",
       "<style scoped>\n",
       "    .dataframe tbody tr th:only-of-type {\n",
       "        vertical-align: middle;\n",
       "    }\n",
       "\n",
       "    .dataframe tbody tr th {\n",
       "        vertical-align: top;\n",
       "    }\n",
       "\n",
       "    .dataframe thead th {\n",
       "        text-align: right;\n",
       "    }\n",
       "</style>\n",
       "<table border=\"1\" class=\"dataframe\">\n",
       "  <thead>\n",
       "    <tr style=\"text-align: right;\">\n",
       "      <th></th>\n",
       "      <th>R2</th>\n",
       "      <th>MAE</th>\n",
       "      <th>RMSE</th>\n",
       "    </tr>\n",
       "  </thead>\n",
       "  <tbody>\n",
       "    <tr>\n",
       "      <th>TrainingAda Boost Regressor</th>\n",
       "      <td>0.300591</td>\n",
       "      <td>49460.472493</td>\n",
       "      <td>60018.417737</td>\n",
       "    </tr>\n",
       "    <tr>\n",
       "      <th>TestingAda Boost Regressor</th>\n",
       "      <td>0.058725</td>\n",
       "      <td>46773.454239</td>\n",
       "      <td>55880.629476</td>\n",
       "    </tr>\n",
       "  </tbody>\n",
       "</table>\n",
       "</div>"
      ],
      "text/plain": [
       "                                   R2           MAE          RMSE\n",
       "TrainingAda Boost Regressor  0.300591  49460.472493  60018.417737\n",
       "TestingAda Boost Regressor   0.058725  46773.454239  55880.629476"
      ]
     },
     "execution_count": 132,
     "metadata": {},
     "output_type": "execute_result"
    }
   ],
   "source": [
    "df_ADA.T #evaluation matrix ada boost"
   ]
  },
  {
   "cell_type": "code",
   "execution_count": 133,
   "id": "00d9eb64",
   "metadata": {},
   "outputs": [],
   "source": [
    "df_GB = Eva_Matrix_Base(gb, X_train, X_test, y_train, y_test, \"Gradient Boosting\") # model gradient boosting"
   ]
  },
  {
   "cell_type": "code",
   "execution_count": 135,
   "id": "96e45653",
   "metadata": {},
   "outputs": [
    {
     "data": {
      "text/html": [
       "<div>\n",
       "<style scoped>\n",
       "    .dataframe tbody tr th:only-of-type {\n",
       "        vertical-align: middle;\n",
       "    }\n",
       "\n",
       "    .dataframe tbody tr th {\n",
       "        vertical-align: top;\n",
       "    }\n",
       "\n",
       "    .dataframe thead th {\n",
       "        text-align: right;\n",
       "    }\n",
       "</style>\n",
       "<table border=\"1\" class=\"dataframe\">\n",
       "  <thead>\n",
       "    <tr style=\"text-align: right;\">\n",
       "      <th></th>\n",
       "      <th>R2</th>\n",
       "      <th>MAE</th>\n",
       "      <th>RMSE</th>\n",
       "    </tr>\n",
       "  </thead>\n",
       "  <tbody>\n",
       "    <tr>\n",
       "      <th>TrainingGradient Boosting</th>\n",
       "      <td>0.774509</td>\n",
       "      <td>19857.352715</td>\n",
       "      <td>34078.743287</td>\n",
       "    </tr>\n",
       "    <tr>\n",
       "      <th>TestingGradient Boosting</th>\n",
       "      <td>0.766688</td>\n",
       "      <td>17471.264274</td>\n",
       "      <td>27820.934153</td>\n",
       "    </tr>\n",
       "  </tbody>\n",
       "</table>\n",
       "</div>"
      ],
      "text/plain": [
       "                                 R2           MAE          RMSE\n",
       "TrainingGradient Boosting  0.774509  19857.352715  34078.743287\n",
       "TestingGradient Boosting   0.766688  17471.264274  27820.934153"
      ]
     },
     "execution_count": 135,
     "metadata": {},
     "output_type": "execute_result"
    }
   ],
   "source": [
    "df_GB.T #evaluation matrix gradient boosting"
   ]
  },
  {
   "cell_type": "code",
   "execution_count": 136,
   "id": "5fbb3ccf",
   "metadata": {},
   "outputs": [],
   "source": [
    "df_XGB = Eva_Matrix_Base(xgb, X_train, X_test, y_train, y_test, \"xgb\") #model extreme gradient boosting"
   ]
  },
  {
   "cell_type": "code",
   "execution_count": 138,
   "id": "099d23bc",
   "metadata": {},
   "outputs": [
    {
     "data": {
      "text/html": [
       "<div>\n",
       "<style scoped>\n",
       "    .dataframe tbody tr th:only-of-type {\n",
       "        vertical-align: middle;\n",
       "    }\n",
       "\n",
       "    .dataframe tbody tr th {\n",
       "        vertical-align: top;\n",
       "    }\n",
       "\n",
       "    .dataframe thead th {\n",
       "        text-align: right;\n",
       "    }\n",
       "</style>\n",
       "<table border=\"1\" class=\"dataframe\">\n",
       "  <thead>\n",
       "    <tr style=\"text-align: right;\">\n",
       "      <th></th>\n",
       "      <th>R2</th>\n",
       "      <th>MAE</th>\n",
       "      <th>RMSE</th>\n",
       "    </tr>\n",
       "  </thead>\n",
       "  <tbody>\n",
       "    <tr>\n",
       "      <th>Trainingxgb</th>\n",
       "      <td>0.951010</td>\n",
       "      <td>9345.141681</td>\n",
       "      <td>15884.535623</td>\n",
       "    </tr>\n",
       "    <tr>\n",
       "      <th>Testingxgb</th>\n",
       "      <td>0.717155</td>\n",
       "      <td>17468.911009</td>\n",
       "      <td>30632.153920</td>\n",
       "    </tr>\n",
       "  </tbody>\n",
       "</table>\n",
       "</div>"
      ],
      "text/plain": [
       "                   R2           MAE          RMSE\n",
       "Trainingxgb  0.951010   9345.141681  15884.535623\n",
       "Testingxgb   0.717155  17468.911009  30632.153920"
      ]
     },
     "execution_count": 138,
     "metadata": {},
     "output_type": "execute_result"
    }
   ],
   "source": [
    "df_XGB.T #evaluation matrix extreme gradient boosting"
   ]
  },
  {
   "cell_type": "markdown",
   "id": "fe668496",
   "metadata": {},
   "source": [
    "### Evaluation Matrix Comparison\n",
    "\n",
    "Dilakukan untuk membandingkan hasil evaluation matrix dari 6 algoritma base model dan 4 algoritma ensemble model yang kemudian dipilih 1 algoritma terbaik untuk kemudian dilakukan hyper parameter tuning dengan randomized search cv"
   ]
  },
  {
   "cell_type": "code",
   "execution_count": 139,
   "id": "be7108a4",
   "metadata": {},
   "outputs": [
    {
     "data": {
      "text/html": [
       "<div>\n",
       "<style scoped>\n",
       "    .dataframe tbody tr th:only-of-type {\n",
       "        vertical-align: middle;\n",
       "    }\n",
       "\n",
       "    .dataframe tbody tr th {\n",
       "        vertical-align: top;\n",
       "    }\n",
       "\n",
       "    .dataframe thead th {\n",
       "        text-align: right;\n",
       "    }\n",
       "</style>\n",
       "<table border=\"1\" class=\"dataframe\">\n",
       "  <thead>\n",
       "    <tr style=\"text-align: right;\">\n",
       "      <th></th>\n",
       "      <th>R2</th>\n",
       "      <th>MAE</th>\n",
       "      <th>RMSE</th>\n",
       "    </tr>\n",
       "  </thead>\n",
       "  <tbody>\n",
       "    <tr>\n",
       "      <th>TrainingRegresi Linear</th>\n",
       "      <td>0.552072</td>\n",
       "      <td>29249.311919</td>\n",
       "      <td>48031.143399</td>\n",
       "    </tr>\n",
       "    <tr>\n",
       "      <th>TestingRegresi Linear</th>\n",
       "      <td>0.566970</td>\n",
       "      <td>25547.219268</td>\n",
       "      <td>37901.974078</td>\n",
       "    </tr>\n",
       "    <tr>\n",
       "      <th>TrainingRidge</th>\n",
       "      <td>0.551976</td>\n",
       "      <td>29262.179522</td>\n",
       "      <td>48036.301233</td>\n",
       "    </tr>\n",
       "    <tr>\n",
       "      <th>TestingRidge</th>\n",
       "      <td>0.566320</td>\n",
       "      <td>25554.148341</td>\n",
       "      <td>37930.421889</td>\n",
       "    </tr>\n",
       "    <tr>\n",
       "      <th>TrainingLasso</th>\n",
       "      <td>0.552072</td>\n",
       "      <td>29248.801524</td>\n",
       "      <td>48031.176985</td>\n",
       "    </tr>\n",
       "    <tr>\n",
       "      <th>TestingLasso</th>\n",
       "      <td>0.567022</td>\n",
       "      <td>25542.066630</td>\n",
       "      <td>37899.710039</td>\n",
       "    </tr>\n",
       "    <tr>\n",
       "      <th>TrainingElasticNet</th>\n",
       "      <td>0.345027</td>\n",
       "      <td>36480.496825</td>\n",
       "      <td>58080.530290</td>\n",
       "    </tr>\n",
       "    <tr>\n",
       "      <th>TestingElasticNet</th>\n",
       "      <td>0.375424</td>\n",
       "      <td>30433.979952</td>\n",
       "      <td>45519.300335</td>\n",
       "    </tr>\n",
       "    <tr>\n",
       "      <th>TrainingDecision Tree Regressor</th>\n",
       "      <td>0.999246</td>\n",
       "      <td>96.147920</td>\n",
       "      <td>1970.526276</td>\n",
       "    </tr>\n",
       "    <tr>\n",
       "      <th>TestingDecision Tree Regressor</th>\n",
       "      <td>0.478180</td>\n",
       "      <td>21962.169284</td>\n",
       "      <td>41606.718522</td>\n",
       "    </tr>\n",
       "    <tr>\n",
       "      <th>TrainingKNN</th>\n",
       "      <td>0.446603</td>\n",
       "      <td>34416.986502</td>\n",
       "      <td>53387.224661</td>\n",
       "    </tr>\n",
       "    <tr>\n",
       "      <th>TestingKNN</th>\n",
       "      <td>0.144023</td>\n",
       "      <td>35562.593019</td>\n",
       "      <td>53288.569868</td>\n",
       "    </tr>\n",
       "    <tr>\n",
       "      <th>TrainingRandom Forest Regressor</th>\n",
       "      <td>0.962503</td>\n",
       "      <td>7525.832374</td>\n",
       "      <td>13896.868063</td>\n",
       "    </tr>\n",
       "    <tr>\n",
       "      <th>TestingRandom Forest Regressor</th>\n",
       "      <td>0.752125</td>\n",
       "      <td>16474.692589</td>\n",
       "      <td>28676.068913</td>\n",
       "    </tr>\n",
       "    <tr>\n",
       "      <th>TrainingAda Boost Regressor</th>\n",
       "      <td>0.300591</td>\n",
       "      <td>49460.472493</td>\n",
       "      <td>60018.417737</td>\n",
       "    </tr>\n",
       "    <tr>\n",
       "      <th>TestingAda Boost Regressor</th>\n",
       "      <td>0.058725</td>\n",
       "      <td>46773.454239</td>\n",
       "      <td>55880.629476</td>\n",
       "    </tr>\n",
       "    <tr>\n",
       "      <th>TrainingGradient Boosting</th>\n",
       "      <td>0.774509</td>\n",
       "      <td>19857.352715</td>\n",
       "      <td>34078.743287</td>\n",
       "    </tr>\n",
       "    <tr>\n",
       "      <th>TestingGradient Boosting</th>\n",
       "      <td>0.766688</td>\n",
       "      <td>17471.264274</td>\n",
       "      <td>27820.934153</td>\n",
       "    </tr>\n",
       "    <tr>\n",
       "      <th>Trainingxgb</th>\n",
       "      <td>0.951010</td>\n",
       "      <td>9345.141681</td>\n",
       "      <td>15884.535623</td>\n",
       "    </tr>\n",
       "    <tr>\n",
       "      <th>Testingxgb</th>\n",
       "      <td>0.717155</td>\n",
       "      <td>17468.911009</td>\n",
       "      <td>30632.153920</td>\n",
       "    </tr>\n",
       "  </tbody>\n",
       "</table>\n",
       "</div>"
      ],
      "text/plain": [
       "                                       R2           MAE          RMSE\n",
       "TrainingRegresi Linear           0.552072  29249.311919  48031.143399\n",
       "TestingRegresi Linear            0.566970  25547.219268  37901.974078\n",
       "TrainingRidge                    0.551976  29262.179522  48036.301233\n",
       "TestingRidge                     0.566320  25554.148341  37930.421889\n",
       "TrainingLasso                    0.552072  29248.801524  48031.176985\n",
       "TestingLasso                     0.567022  25542.066630  37899.710039\n",
       "TrainingElasticNet               0.345027  36480.496825  58080.530290\n",
       "TestingElasticNet                0.375424  30433.979952  45519.300335\n",
       "TrainingDecision Tree Regressor  0.999246     96.147920   1970.526276\n",
       "TestingDecision Tree Regressor   0.478180  21962.169284  41606.718522\n",
       "TrainingKNN                      0.446603  34416.986502  53387.224661\n",
       "TestingKNN                       0.144023  35562.593019  53288.569868\n",
       "TrainingRandom Forest Regressor  0.962503   7525.832374  13896.868063\n",
       "TestingRandom Forest Regressor   0.752125  16474.692589  28676.068913\n",
       "TrainingAda Boost Regressor      0.300591  49460.472493  60018.417737\n",
       "TestingAda Boost Regressor       0.058725  46773.454239  55880.629476\n",
       "TrainingGradient Boosting        0.774509  19857.352715  34078.743287\n",
       "TestingGradient Boosting         0.766688  17471.264274  27820.934153\n",
       "Trainingxgb                      0.951010   9345.141681  15884.535623\n",
       "Testingxgb                       0.717155  17468.911009  30632.153920"
      ]
     },
     "execution_count": 139,
     "metadata": {},
     "output_type": "execute_result"
    }
   ],
   "source": [
    "pd.concat([df_LinReg.T, df_Ridge.T, df_Lasso.T, df_ElasticNet.T, df_DecisionTree.T, df_KNN.T, df_RF.T, df_ADA.T, df_GB.T, df_XGB.T], axis = 0)"
   ]
  },
  {
   "cell_type": "markdown",
   "id": "a99a8f1c",
   "metadata": {},
   "source": [
    "Berdasarkan hasil uji terhadap algoritma diatas, didapatkan bahwa model **Gradient Boosting** memiliki score matrix yang terbaik, Hal ini dikarenakan hasil yang stabil dari R2 training dan testingnya yang sebesar **(0.77)** dan **(0.76)**. Maka model inilah yang akan digunakan untuk memprediksi harga mobil bekas di Saudi Arabia. Selain itu gradien Boosting juga memiliki **MAE** dan **RMSE** yang rendah. Untuk MAE training dan testingnya sebesar **(19857)** dan **(17471)**. Untuk RMSE training dan testingnya sebesar **(34078)** dan **(27820)**."
   ]
  },
  {
   "cell_type": "markdown",
   "id": "a2adfea1",
   "metadata": {},
   "source": [
    "### Cara Kerja Algoritma Gradient Boosting"
   ]
  },
  {
   "cell_type": "markdown",
   "id": "f83f1a18",
   "metadata": {},
   "source": [
    "Gradient Boosting  merupakan salah satu metode *machine learning* yang diusulkan oleh Friedman dan populer digunakan dalam pemodelan regresi dan klasifikasi yang secara iteratif mengubah weak-learner menjadi strong-learner dalam pemodelan prediksi. Algoritma dimulai dari menghasilkan pohon regresi awal dan terus menyesuaikan pohon baru melalui minimalisasi fungsi kerugian. Algoritma gradient boosting bekerja secara sekuensial menambahkan prediktor sebelumnya yang kurang cocok dengan prediksi ke ensemble, memastikan kesalahan yang dibuat sebelumnya diperbaiki. Penggambaran sederhana konsep ensemble adalah keputusan-keputusan dari berbagai *machine learning* digabungkan, kemudian untuk kelas yang menerima mayoritas ‘suara’ adalah kelas yang akan diprediksi oleh keseluruhan ensemble. Gradient boosting memerlukan konfigurasi hyperparameter pada tahap awal, kombinasi hyperparameter yang optimal mempengaruhi hasil prediksi gradient boosting (Natekin dan Knoll, 2013). Algoritma gradient boosting mendukung fleksibilitas dan kustomisasi yang tinggi dengan tiga elemen yaitu loss function, weak learner, dan additive model.\n",
    "![gradient boosting](https://www.akira.ai/hubfs/Imported_Blog_Media/akira-ai-gradient-boosting-ml-technique.png)\n",
    "\n",
    "Source : \n",
    "- Natekin, A., & Knoll, A. (2013). Gradient boosting machines, a tutorial. Frontiers in neurorobotics, 7, 21.\n"
   ]
  },
  {
   "cell_type": "markdown",
   "id": "dd355d28",
   "metadata": {},
   "source": [
    "------"
   ]
  },
  {
   "cell_type": "markdown",
   "id": "612229e7",
   "metadata": {},
   "source": [
    "### Hyperparameter Tuning"
   ]
  },
  {
   "cell_type": "markdown",
   "id": "76398021",
   "metadata": {},
   "source": [
    "Randomized search bekerja dengan mencoba kombinasi data secara random. Randomized search cocok digunakan jika data terlampau banyak dan jika menggunakan algoritma yang memiliki banyak hyperparameter. Pada case kali ini hyperparameter tuning yang digunakan adalah Randomized Search dikarenakan kapasitas laptop yang kurang memenuhi standar dan efisiensi waktu saat melakukan tuning."
   ]
  },
  {
   "cell_type": "code",
   "execution_count": 210,
   "id": "182a930c",
   "metadata": {},
   "outputs": [],
   "source": [
    "params = {'learning_rate': [0.1, 0.2, 0.3, 0.4, 0.5, 0.6, 0.7, 0.8, 0.9], # Step size shrinkage used in update to prevents overfitting\n",
    "                  'subsample'    : [0.4, 0.5, 0.6, 0.7, 0.8], # Subsample ratio of the training instances\n",
    "                  'n_estimators' : [110, 120, 130, 140, 150], # Number of gradient boosted trees\n",
    "                  'max_depth'    : np.arange(1,10,1), # Maximum depth of a tree\n",
    "                  'alpha'        : [0.1]\n",
    "                 }"
   ]
  },
  {
   "cell_type": "code",
   "execution_count": 211,
   "id": "dc14cccc",
   "metadata": {},
   "outputs": [],
   "source": [
    "kf = KFold(n_splits=4)"
   ]
  },
  {
   "cell_type": "code",
   "execution_count": 212,
   "id": "2b35342e",
   "metadata": {},
   "outputs": [],
   "source": [
    "GB_RS = RandomizedSearchCV(gb, params, cv = kf, n_jobs = -1, verbose=1, scoring='r2',n_iter=300, random_state= 42)"
   ]
  },
  {
   "cell_type": "code",
   "execution_count": 213,
   "id": "d5b77607",
   "metadata": {},
   "outputs": [
    {
     "name": "stdout",
     "output_type": "stream",
     "text": [
      "Fitting 4 folds for each of 300 candidates, totalling 1200 fits\n"
     ]
    },
    {
     "data": {
      "text/plain": [
       "RandomizedSearchCV(cv=KFold(n_splits=4, random_state=None, shuffle=False),\n",
       "                   estimator=GradientBoostingRegressor(), n_iter=300, n_jobs=-1,\n",
       "                   param_distributions={'alpha': [0.1],\n",
       "                                        'learning_rate': [0.1, 0.2, 0.3, 0.4,\n",
       "                                                          0.5, 0.6, 0.7, 0.8,\n",
       "                                                          0.9],\n",
       "                                        'max_depth': array([1, 2, 3, 4, 5, 6, 7, 8, 9]),\n",
       "                                        'n_estimators': [110, 120, 130, 140,\n",
       "                                                         150],\n",
       "                                        'subsample': [0.4, 0.5, 0.6, 0.7, 0.8]},\n",
       "                   random_state=42, scoring='r2', verbose=1)"
      ]
     },
     "execution_count": 213,
     "metadata": {},
     "output_type": "execute_result"
    }
   ],
   "source": [
    "GB_RS.fit(X_train, y_train) #melakukan tuning"
   ]
  },
  {
   "cell_type": "code",
   "execution_count": 214,
   "id": "62dc529d",
   "metadata": {},
   "outputs": [
    {
     "name": "stdout",
     "output_type": "stream",
     "text": [
      "best tuning score : 0.745248197483514\n",
      "best params : {'subsample': 0.7, 'n_estimators': 110, 'max_depth': 4, 'learning_rate': 0.1, 'alpha': 0.1}\n"
     ]
    }
   ],
   "source": [
    "print('best tuning score :', GB_RS.best_score_)\n",
    "print('best params :', GB_RS.best_params_)\n",
    "GB_Tuned_1 = GB_RS.best_estimator_"
   ]
  },
  {
   "cell_type": "code",
   "execution_count": 215,
   "id": "a0fd6041",
   "metadata": {},
   "outputs": [],
   "source": [
    "df_GB_Tuned = Eva_Matrix_Base(GB_Tuned_1, X_train, X_test, y_train, y_test, \"GB_Tuned\")"
   ]
  },
  {
   "cell_type": "code",
   "execution_count": 216,
   "id": "68e56c72",
   "metadata": {},
   "outputs": [
    {
     "data": {
      "text/html": [
       "<div>\n",
       "<style scoped>\n",
       "    .dataframe tbody tr th:only-of-type {\n",
       "        vertical-align: middle;\n",
       "    }\n",
       "\n",
       "    .dataframe tbody tr th {\n",
       "        vertical-align: top;\n",
       "    }\n",
       "\n",
       "    .dataframe thead th {\n",
       "        text-align: right;\n",
       "    }\n",
       "</style>\n",
       "<table border=\"1\" class=\"dataframe\">\n",
       "  <thead>\n",
       "    <tr style=\"text-align: right;\">\n",
       "      <th></th>\n",
       "      <th>R2</th>\n",
       "      <th>MAE</th>\n",
       "      <th>RMSE</th>\n",
       "    </tr>\n",
       "  </thead>\n",
       "  <tbody>\n",
       "    <tr>\n",
       "      <th>TrainingGB_Tuned</th>\n",
       "      <td>0.844809</td>\n",
       "      <td>17036.874461</td>\n",
       "      <td>28331.222249</td>\n",
       "    </tr>\n",
       "    <tr>\n",
       "      <th>TestingGB_Tuned</th>\n",
       "      <td>0.779872</td>\n",
       "      <td>16930.825833</td>\n",
       "      <td>28499.398316</td>\n",
       "    </tr>\n",
       "  </tbody>\n",
       "</table>\n",
       "</div>"
      ],
      "text/plain": [
       "                        R2           MAE          RMSE\n",
       "TrainingGB_Tuned  0.844809  17036.874461  28331.222249\n",
       "TestingGB_Tuned   0.779872  16930.825833  28499.398316"
      ]
     },
     "execution_count": 216,
     "metadata": {},
     "output_type": "execute_result"
    }
   ],
   "source": [
    "df_GB_Tuned.T"
   ]
  },
  {
   "cell_type": "code",
   "execution_count": 217,
   "id": "a3e05cc8",
   "metadata": {},
   "outputs": [],
   "source": [
    "# saving and using model with pickle"
   ]
  },
  {
   "cell_type": "code",
   "execution_count": 218,
   "id": "511c6fed",
   "metadata": {},
   "outputs": [],
   "source": [
    "#saving model with picle\n",
    "import pickle\n",
    "pickle.dump(GB_Tuned_1, open('model_pickle.sav', 'wb'))"
   ]
  },
  {
   "cell_type": "code",
   "execution_count": 219,
   "id": "0d506dd7",
   "metadata": {},
   "outputs": [],
   "source": [
    "#load model with pickle\n",
    "loaded_model = pickle.load(open('model_pickle.sav', 'rb'))"
   ]
  },
  {
   "cell_type": "code",
   "execution_count": 225,
   "id": "804db80b",
   "metadata": {},
   "outputs": [
    {
     "data": {
      "text/plain": [
       "77486.01178627554"
      ]
     },
     "execution_count": 225,
     "metadata": {},
     "output_type": "execute_result"
    }
   ],
   "source": [
    "df['Price'].mean()"
   ]
  },
  {
   "cell_type": "markdown",
   "id": "82551e5a",
   "metadata": {},
   "source": [
    "# Part 5 : Conclusion and Recomendation"
   ]
  },
  {
   "cell_type": "markdown",
   "id": "388d6edf",
   "metadata": {},
   "source": [
    "# Conclussion\n",
    "Setelah dilakukan pemodelan untuk dataset Saudi Arabia Secara keseluruhan maka dapat disimpulkan bahwa:\n",
    "\n",
    "- Model yang paling baik untuk diimplementasi pada Dataset ini adalah Gradient Boosting dengan hyperparameter tuning **'subsample': 0.7, 'n_estimators': 110, 'max_depth': 4, 'learning_rate': 0.1, 'alpha': 0.1**\n",
    "\n",
    "- Berdasarkan hasil korelasi dan korelasi ratio diketahui bahwa fitur yang paling berpengaruh terhadap target adalah **Year** dan **Engine_Size** untuk korelasi serta **Type** dan **Option** untuk korelasi ratio\n",
    "\n",
    "- Dikarenakan adanya penghapusan outliers yang ekstrem maka dalam dataset ini terdapat 3 project limitasi yakni :\n",
    "1. Dataset pada kolom mileage dengan nilai diatas 7,5 juta\n",
    "2. Dataset pada kolom year dengan nilai dibawah tahun 1970\n",
    "3. Dataset pada kolom price dengan nilai diatas 700 ribu\n",
    "\n",
    "- Dataset dengan kolom price berisi angka nol tidak dapat digunakan untuk *machine learning* dikarenakan kita hanya ingin memprediksi data dengan angka real. Namun, hal ini berdampak menjadikan dataset ini sangat sedikit (hanya 3818 baris data)\n",
    "\n",
    "- Besarnya nilai RMSE dari Best model (setelah Algoritma Gradient Boosting dilakukan tuning) melebihi nilai MAE nya. yakni 28 ribu berbanding 17 ribu dengan selisih sebesar 11 ribu hal ini disebabkan karena RMSE \"menghukum\" model lebih besar dibanding MAE. Sehingga umumnya nilai RMSE lebih besar dari MAE. Jika ada seseorang menjual harga mobil bekas dengan harga rata-rata penjualan mobil bekas yakni SAR 77486.01178627554 maka berdasarkan RMSE, persentase error dari harga yang sudah disebutkan yakni sebesar 36% yang bermakna errornya masih cukup besar. Sedangkan berdasarkan MAE persentase error dari harga yang sudah disebutkan yakni sebesar 21%.\n",
    "\n",
    "# Recommendation\n",
    "\n",
    "Hal-hal yang dapat dilakukan untuk mengembangkan model agar lebih baik lagi, seperti:\n",
    "\n",
    "- Dilakukan penambahan baris data dikarenakan baris data yang tersedia setelah data dengan nilai nol dihapus hanya 3818 baris data. Penambahan ini disarankan agar evaluation matrix yang dihasilkan tidak cenderung overfit atau menghafal data\n",
    "\n",
    "- Dilakukan penambahan kolom data (independent variable) yang berkaitan dengan kolom target (dependent variable) dikarenakan kolom data yang dapat digunakan hanya sedikit. \n",
    "\n",
    "- Melakukan binning pada kolom region di Saudi Arabia berdasarkan west, east, south, dan north seperti yang dijelaskan oleh [kenresearch.com](https://www.kenresearch.com/blog/2020/09/future-of-saudi-arabia-used-car-market-growth-rate-ken-research/) hal ini tidak dilakukan pada case ini karena kurangnya domain knowledge dari author terhadap region dari Saudi Arabia.\n",
    "\n",
    "- Penambahan parameter pada saat melakukan tuning. Misalnya criterion, min_impurity, dll. Penambahan ini tidak dilakukan karena kurangnya waktu dalam pengerjaan dan kurangnya spek laptop dari author\n",
    "\n",
    "- Penggunaan grid search karena grid search menjamin hasil yang terbaik saat melakukan hyperparameter tuning"
   ]
  },
  {
   "cell_type": "code",
   "execution_count": null,
   "id": "6ff3b4da",
   "metadata": {},
   "outputs": [],
   "source": []
  }
 ],
 "metadata": {
  "kernelspec": {
   "display_name": "Python 3 (ipykernel)",
   "language": "python",
   "name": "python3"
  },
  "language_info": {
   "codemirror_mode": {
    "name": "ipython",
    "version": 3
   },
   "file_extension": ".py",
   "mimetype": "text/x-python",
   "name": "python",
   "nbconvert_exporter": "python",
   "pygments_lexer": "ipython3",
   "version": "3.9.12"
  }
 },
 "nbformat": 4,
 "nbformat_minor": 5
}
